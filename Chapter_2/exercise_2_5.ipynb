{
 "cells": [
  {
   "cell_type": "code",
   "execution_count": 1,
   "metadata": {},
   "outputs": [],
   "source": [
    "import numpy as np\n",
    "import matplotlib.pyplot as plt\n",
    "rng = np.random.default_rng()"
   ]
  },
  {
   "cell_type": "code",
   "execution_count": 2,
   "metadata": {},
   "outputs": [],
   "source": [
    "def argmax_random_tiebreak(vec):\n",
    "    return rng.choice(np.flatnonzero(vec == vec.max()))"
   ]
  },
  {
   "cell_type": "code",
   "execution_count": 3,
   "metadata": {},
   "outputs": [],
   "source": [
    "def epsilon_greedy_selection(action_value_estimates, exploration_probability):\n",
    "    if rng.random() < exploration_probability:\n",
    "        return rng.integers(0, len(action_value_estimates))\n",
    "    return argmax_random_tiebreak(action_value_estimates)"
   ]
  },
  {
   "cell_type": "code",
   "execution_count": 4,
   "metadata": {},
   "outputs": [],
   "source": [
    "def compute_reward(action_values, selected_action):\n",
    "    return rng.normal(action_values[selected_action], 1)"
   ]
  },
  {
   "cell_type": "code",
   "execution_count": 5,
   "metadata": {},
   "outputs": [],
   "source": [
    "def update_estimates_using_sample_average(action_value_estimates, num_action_selections, selected_action, reward):\n",
    "    estimates = action_value_estimates.copy()\n",
    "    estimates[selected_action] += (reward - estimates[selected_action]) / num_action_selections[selected_action]\n",
    "    return estimates"
   ]
  },
  {
   "cell_type": "code",
   "execution_count": 6,
   "metadata": {},
   "outputs": [],
   "source": [
    "def run_bandit_session(num_steps, num_actions, exploration_probability):\n",
    "    # Initialize\n",
    "    rewards = np.zeros(num_steps)\n",
    "    action_values = rng.standard_normal(num_actions)\n",
    "    action_value_estimates = np.zeros(num_actions)\n",
    "    num_action_selections = np.zeros(num_actions)\n",
    "\n",
    "    # Run session\n",
    "    for i in range(num_steps):\n",
    "        selected_action = epsilon_greedy_selection(action_value_estimates, exploration_probability)\n",
    "        num_action_selections[selected_action] += 1\n",
    "        reward = compute_reward(action_values, selected_action)\n",
    "        rewards[i] = reward\n",
    "        action_value_estimates = update_estimates_using_sample_average(action_value_estimates, num_action_selections, selected_action, reward)\n",
    "    \n",
    "    return rewards"
   ]
  },
  {
   "cell_type": "code",
   "execution_count": 7,
   "metadata": {},
   "outputs": [],
   "source": [
    "def run_multiple_sessions(num_sessions, num_steps, num_actions, exploration_probability):\n",
    "    average_rewards = np.zeros(num_steps)\n",
    "    for i in range(num_sessions):\n",
    "        rewards = run_bandit_session(num_steps, num_actions, exploration_probability)\n",
    "        average_rewards += rewards\n",
    "    average_rewards /= num_sessions\n",
    "    return average_rewards"
   ]
  },
  {
   "cell_type": "code",
   "execution_count": 9,
   "metadata": {},
   "outputs": [
    {
     "data": {
      "text/plain": [
       "[<matplotlib.lines.Line2D at 0x14bf62cdf30>]"
      ]
     },
     "execution_count": 9,
     "metadata": {},
     "output_type": "execute_result"
    },
    {
     "data": {
      "image/png": "[encoded data removed]",
      "text/plain": [
       "<Figure size 432x288 with 1 Axes>"
      ]
     },
     "metadata": {
      "needs_background": "light"
     },
     "output_type": "display_data"
    }
   ],
   "source": [
    "average_rewards = run_multiple_sessions(2000, 1000, 10, 0.1)\n",
    "plt.plot(np.arange(len(average_rewards)), average_rewards)"
   ]
  },
  {
   "cell_type": "code",
   "execution_count": null,
   "metadata": {},
   "outputs": [],
   "source": []
  }
 ],
 "metadata": {
  "interpreter": {
   "hash": "1f26179ee78db2aa81e6834ad6dc21cf32f3392ab3632a5346cf30ea04832c43"
  },
  "kernelspec": {
   "display_name": "Python 3.10.5 64-bit",
   "language": "python",
   "name": "python3"
  },
  "language_info": {
   "codemirror_mode": {
    "name": "ipython",
    "version": 3
   },
   "file_extension": ".py",
   "mimetype": "text/x-python",
   "name": "python",
   "nbconvert_exporter": "python",
   "pygments_lexer": "ipython3",
   "version": "3.10.5"
  },
  "orig_nbformat": 4
 },
 "nbformat": 4,
 "nbformat_minor": 2
}
