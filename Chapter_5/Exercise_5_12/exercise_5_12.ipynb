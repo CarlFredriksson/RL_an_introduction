{
 "cells": [
  {
   "cell_type": "code",
   "execution_count": 1,
   "metadata": {},
   "outputs": [],
   "source": [
    "import numpy as np\n",
    "import matplotlib.pyplot as plt\n",
    "from matplotlib import colors\n",
    "import random\n",
    "random.seed(7)\n",
    "from collections import Counter"
   ]
  },
  {
   "cell_type": "code",
   "execution_count": 2,
   "metadata": {},
   "outputs": [],
   "source": [
    "starting_line = {(3, 0), (4, 0), (5, 0), (6, 0), (7, 0), (8, 0)}\n",
    "finishing_line = {(16, 26), (16, 27), (16, 28), (16, 29), (16, 30), (16, 31)}\n",
    "track = {\n",
    "    (3,1), (4,1), (5,1), (6,1), (7,1), (8,1),\n",
    "    (3,2), (4,2), (5,2), (6,2), (7,2), (8,2),\n",
    "    (2,3), (3,3), (4,3), (5,3), (6,3), (7,3), (8,3),\n",
    "    (2,4), (3,4), (4,4), (5,4), (6,4), (7,4), (8,4),\n",
    "    (2,5), (3,5), (4,5), (5,5), (6,5), (7,5), (8,5),\n",
    "    (2,6), (3,6), (4,6), (5,6), (6,6), (7,6), (8,6),\n",
    "    (2,7), (3,7), (4,7), (5,7), (6,7), (7,7), (8,7),\n",
    "    (2,8), (3,8), (4,8), (5,8), (6,8), (7,8), (8,8),\n",
    "    (2,9), (3,9), (4,9), (5,9), (6,9), (7,9), (8,9),\n",
    "    (1,10), (2,10), (3,10), (4,10), (5,10), (6,10), (7,10), (8,10),\n",
    "    (1,11), (2,11), (3,11), (4,11), (5,11), (6,11), (7,11), (8,11),\n",
    "    (1,12), (2,12), (3,12), (4,12), (5,12), (6,12), (7,12), (8,12),\n",
    "    (1,13), (2,13), (3,13), (4,13), (5,13), (6,13), (7,13), (8,13),\n",
    "    (1,14), (2,14), (3,14), (4,14), (5,14), (6,14), (7,14), (8,14),\n",
    "    (1,15), (2,15), (3,15), (4,15), (5,15), (6,15), (7,15), (8,15),\n",
    "    (1,16), (2,16), (3,16), (4,16), (5,16), (6,16), (7,16), (8,16),\n",
    "    (1,17), (2,17), (3,17), (4,17), (5,17), (6,17), (7,17), (8,17),\n",
    "    (0,18), (1,18), (2,18), (3,18), (4,18), (5,18), (6,18), (7,18), (8,18),\n",
    "    (0,19), (1,19), (2,19), (3,19), (4,19), (5,19), (6,19), (7,19), (8,19),\n",
    "    (0,20), (1,20), (2,20), (3,20), (4,20), (5,20), (6,20), (7,20), (8,20),\n",
    "    (0,21), (1,21), (2,21), (3,21), (4,21), (5,21), (6,21), (7,21), (8,21),\n",
    "    (0,22), (1,22), (2,22), (3,22), (4,22), (5,22), (6,22), (7,22), (8,22),\n",
    "    (0,23), (1,23), (2,23), (3,23), (4,23), (5,23), (6,23), (7,23), (8,23),\n",
    "    (0,24), (1,24), (2,24), (3,24), (4,24), (5,24), (6,24), (7,24), (8,24),\n",
    "    (0,25), (1,25), (2,25), (3,25), (4,25), (5,25), (6,25), (7,25), (8,25), (9,25),\n",
    "    (0,26), (1,26), (2,26), (3,26), (4,26), (5,26), (6,26), (7,26), (8,26), (9,26), (10,26), (11,26), (12,26), (13,26), (14,26), (15,26),\n",
    "    (0,27), (1,27), (2,27), (3,27), (4,27), (5,27), (6,27), (7,27), (8,27), (9,27), (10,27), (11,27), (12,27), (13,27), (14,27), (15,27),\n",
    "    (1,28), (2,28), (3,28), (4,28), (5,28), (6,28), (7,28), (8,28), (9,28), (10,28), (11,28), (12,28), (13,28), (14,28), (15,28),\n",
    "    (2,29), (3,29), (4,29), (5,29), (6,29), (7,29), (8,29), (9,29), (10,29), (11,29), (12,29), (13,29), (14,29), (15,29),\n",
    "    (2,30), (3,30), (4,30), (5,30), (6,30), (7,30), (8,30), (9,30), (10,30), (11,30), (12,30), (13,30), (14,30), (15,30),\n",
    "    (3,31), (4,31), (5,31), (6,31), (7,31), (8,31), (9,31), (10,31), (11,31), (12,31), (13,31), (14,31), (15,31)\n",
    "}"
   ]
  },
  {
   "cell_type": "code",
   "execution_count": 3,
   "metadata": {},
   "outputs": [
    {
     "data": {
      "image/png": "[encoded data removed]",
      "text/plain": [
       "<Figure size 504x1008 with 1 Axes>"
      ]
     },
     "metadata": {
      "needs_background": "light"
     },
     "output_type": "display_data"
    }
   ],
   "source": [
    "def plot_map():\n",
    "    data = np.zeros((32, 17))\n",
    "    for i in range(data.shape[0]):\n",
    "        for j in range(data.shape[1]):\n",
    "            if (j, i) in track:\n",
    "                data[i, j] = 1\n",
    "            elif (j, i) in starting_line:\n",
    "                data[i, j] = 2\n",
    "            elif(j, i) in finishing_line:\n",
    "                data[i, j] = 3\n",
    "    fig, ax = plt.subplots(figsize=(7, 14))\n",
    "    ax.set_xticks(np.arange(0, 18, 1))\n",
    "    ax.set_yticks(np.arange(0, 32, 1))\n",
    "    cmap = colors.ListedColormap([\"black\", \"white\", \"red\", \"green\"])\n",
    "    plt.pcolormesh(data, edgecolors=\"k\", cmap=cmap)\n",
    "plot_map()"
   ]
  },
  {
   "cell_type": "code",
   "execution_count": 4,
   "metadata": {},
   "outputs": [],
   "source": [
    "def get_available_actions(state):\n",
    "     available_actions = []\n",
    "     x, y, v_x, v_y = state\n",
    "     for v_x_inc in (-1, 0, 1):\n",
    "          v_x_new = v_x + v_x_inc\n",
    "          for v_y_inc in (-1, 0, 1):\n",
    "               v_y_new = v_y + v_y_inc\n",
    "               if not (v_x_new < 0 or v_y_new < 0 or v_x_new > 5 or v_y_new > 5 or\n",
    "                    (v_x_new == 0 and v_y_new == 0)):\n",
    "                    available_actions.append((v_x_inc, v_y_inc))\n",
    "     return available_actions\n"
   ]
  },
  {
   "cell_type": "code",
   "execution_count": 5,
   "metadata": {},
   "outputs": [
    {
     "data": {
      "text/plain": [
       "[(0, 1), (1, 0), (1, 1)]"
      ]
     },
     "execution_count": 5,
     "metadata": {},
     "output_type": "execute_result"
    }
   ],
   "source": [
    "state = (5, 0, 0, 0)\n",
    "get_available_actions(state)"
   ]
  },
  {
   "cell_type": "code",
   "execution_count": 6,
   "metadata": {},
   "outputs": [],
   "source": [
    "def get_eps_greedy_probabilities(state, greedy_action, eps=0):\n",
    "    probabilities = {}\n",
    "    available_actions = get_available_actions(state)\n",
    "    num_available_actions = len(available_actions)\n",
    "    for action in available_actions:\n",
    "        probabilities[action] = eps / num_available_actions\n",
    "        if action == greedy_action:\n",
    "            probabilities[action] += 1 - eps\n",
    "    return probabilities"
   ]
  },
  {
   "cell_type": "code",
   "execution_count": 7,
   "metadata": {},
   "outputs": [
    {
     "data": {
      "text/plain": [
       "{(-1, -1): 0.0,\n",
       " (-1, 0): 0.0,\n",
       " (-1, 1): 0.0,\n",
       " (0, -1): 0.0,\n",
       " (0, 0): 0.0,\n",
       " (0, 1): 1.0,\n",
       " (1, -1): 0.0,\n",
       " (1, 0): 0.0,\n",
       " (1, 1): 0.0}"
      ]
     },
     "execution_count": 7,
     "metadata": {},
     "output_type": "execute_result"
    }
   ],
   "source": [
    "state = (3, 4, 3, 4)\n",
    "get_eps_greedy_probabilities(state, random.choice(get_available_actions(state)))"
   ]
  },
  {
   "cell_type": "code",
   "execution_count": 8,
   "metadata": {},
   "outputs": [],
   "source": [
    "def generate_start_state():\n",
    "    start_x, start_y = random.choice(list(starting_line))\n",
    "    return start_x, start_y, 0, 0"
   ]
  },
  {
   "cell_type": "code",
   "execution_count": 9,
   "metadata": {},
   "outputs": [
    {
     "data": {
      "text/plain": [
       "(5, 0, 0, 0)"
      ]
     },
     "execution_count": 9,
     "metadata": {},
     "output_type": "execute_result"
    }
   ],
   "source": [
    "generate_start_state()"
   ]
  },
  {
   "cell_type": "code",
   "execution_count": 10,
   "metadata": {},
   "outputs": [],
   "source": [
    "def initialize_learning(eps):\n",
    "    policy = {}\n",
    "    Q = {}\n",
    "    N = {}\n",
    "    for x, y in starting_line.union(track):\n",
    "        for v_x in range(6):\n",
    "            for v_y in range(6):\n",
    "                state = (x, y, v_x, v_y)\n",
    "                available_actions = get_available_actions(state)\n",
    "                policy[state] = get_eps_greedy_probabilities(state, random.choice(available_actions), eps)\n",
    "                for a in available_actions:\n",
    "                    Q[(state, a)] = 0\n",
    "                    N[(state, a)] = 0\n",
    "    return policy, Q, N"
   ]
  },
  {
   "cell_type": "code",
   "execution_count": 11,
   "metadata": {},
   "outputs": [
    {
     "name": "stdout",
     "output_type": "stream",
     "text": [
      "state s: (5, 6, 5, 5) - policy(s): {(-1, -1): 0.025, (-1, 0): 0.925, (0, -1): 0.025, (0, 0): 0.025}\n",
      "state-action pair (s, a): ((5, 6, 5, 5), (0, -1)) - Q(s, a): 0\n",
      "state-action pair (s, a): ((5, 6, 5, 5), (0, -1)) - N(s, a): 0\n"
     ]
    }
   ],
   "source": [
    "policy, Q, N = initialize_learning(0.1)\n",
    "s = (5, 6, 5, 5)\n",
    "a = random.choice(list(policy[s].keys()))\n",
    "print(\"state s:\", str(s), \"- policy(s):\", str(policy[s]))\n",
    "print(\"state-action pair (s, a):\", f\"({s}, {a})\", \"- Q(s, a):\", Q[(s, a)])\n",
    "print(\"state-action pair (s, a):\", f\"({s}, {a})\", \"- N(s, a):\", N[(s, a)])"
   ]
  },
  {
   "cell_type": "code",
   "execution_count": 12,
   "metadata": {},
   "outputs": [],
   "source": [
    "def select_action_according_to_policy(policy, state):\n",
    "    return random.choices(list(policy[state].keys()), list(policy[state].values()))[0]"
   ]
  },
  {
   "cell_type": "code",
   "execution_count": 13,
   "metadata": {},
   "outputs": [
    {
     "name": "stdout",
     "output_type": "stream",
     "text": [
      "{(-1, -1): 0.011111111111111112, (-1, 0): 0.011111111111111112, (-1, 1): 0.011111111111111112, (0, -1): 0.011111111111111112, (0, 0): 0.011111111111111112, (0, 1): 0.011111111111111112, (1, -1): 0.011111111111111112, (1, 0): 0.011111111111111112, (1, 1): 0.9111111111111111}\n",
      "dict_keys([(1, 1), (-1, 1), (0, 0), (1, 0), (0, -1), (-1, -1), (-1, 0), (1, -1), (0, 1)])\n",
      "dict_values([91119, 1146, 1080, 1100, 1082, 1123, 1101, 1109, 1140])\n"
     ]
    }
   ],
   "source": [
    "state = (3, 4, 3, 4)\n",
    "x = [select_action_according_to_policy(policy, state) for _ in range(100000)]\n",
    "print(policy[state])\n",
    "print(Counter(x).keys())\n",
    "print(Counter(x).values())"
   ]
  },
  {
   "cell_type": "code",
   "execution_count": 14,
   "metadata": {},
   "outputs": [],
   "source": [
    "def generate_episode(policy, max_num_steps=1000000, noise=0):\n",
    "    states = []\n",
    "    actions = []\n",
    "    rewards = []\n",
    "    state = generate_start_state()\n",
    "    for t in range(max_num_steps):\n",
    "        states.append(state)\n",
    "        x, y, v_x, v_y = state\n",
    "        action = select_action_according_to_policy(policy, state)\n",
    "        actions.append(action)\n",
    "        if random.random() < noise:\n",
    "            action = (0, 0)\n",
    "        new_v_x = v_x + action[0]\n",
    "        new_v_y = v_y + action[1]\n",
    "        new_x = x + new_v_x\n",
    "        new_y = y + new_v_y\n",
    "        state = (new_x, new_y, new_v_x, new_v_y)\n",
    "        if new_x >= 16 and new_y >= 26 and new_y <= 31:\n",
    "            # Crossed finishing line\n",
    "            rewards.append(0)\n",
    "            break\n",
    "        elif (new_x, new_y) not in starting_line.union(track):\n",
    "            # Ran out of bounds\n",
    "            state = generate_start_state()\n",
    "        rewards.append(-1)\n",
    "    return states, actions, rewards"
   ]
  },
  {
   "cell_type": "code",
   "execution_count": 15,
   "metadata": {},
   "outputs": [
    {
     "name": "stdout",
     "output_type": "stream",
     "text": [
      "[(6, 0, 0, 0), (7, 1, 1, 1), (3, 0, 0, 0), (3, 1, 0, 1), (3, 2, 0, 1), (4, 4, 1, 2), (4, 6, 0, 2), (5, 9, 1, 3), (7, 13, 2, 4), (8, 18, 1, 5)]\n",
      "[(1, 1), (1, 1), (0, 1), (0, 0), (1, 1), (-1, 0), (1, 1), (1, 1), (-1, 1), (-1, 0)]\n",
      "[-1, -1, -1, -1, -1, -1, -1, -1, -1, -1]\n"
     ]
    }
   ],
   "source": [
    "states, actions, rewards = generate_episode(policy, max_num_steps=10)\n",
    "print(states)\n",
    "print(actions)\n",
    "print(rewards)"
   ]
  },
  {
   "cell_type": "code",
   "execution_count": 16,
   "metadata": {},
   "outputs": [],
   "source": [
    "def plot_trajectory(states):\n",
    "    plot_map()\n",
    "    x = []\n",
    "    y = []\n",
    "    for i in range(len(states)):\n",
    "        x.append(states[i][0])\n",
    "        y.append(states[i][1])\n",
    "    plt.plot(x, y, \"-o\")"
   ]
  },
  {
   "cell_type": "code",
   "execution_count": 17,
   "metadata": {},
   "outputs": [
    {
     "data": {
      "image/png": "[encoded data removed]",
      "text/plain": [
       "<Figure size 504x1008 with 1 Axes>"
      ]
     },
     "metadata": {
      "needs_background": "light"
     },
     "output_type": "display_data"
    }
   ],
   "source": [
    "plot_trajectory(states)"
   ]
  },
  {
   "cell_type": "code",
   "execution_count": 18,
   "metadata": {},
   "outputs": [],
   "source": [
    "def get_greedy_action(Q, state):\n",
    "    max_val = -np.inf\n",
    "    greedy_action = None\n",
    "    for action in get_available_actions(state):\n",
    "        if Q[(state, action)] > max_val:\n",
    "            max_val = Q[(state, action)]\n",
    "            greedy_action = action\n",
    "    return greedy_action"
   ]
  },
  {
   "cell_type": "code",
   "execution_count": 19,
   "metadata": {},
   "outputs": [],
   "source": [
    "# On-policy every visit MC control (eps-soft policies)\n",
    "def learn_from_episode(policy, Q, N, states, actions, rewards, gamma=1, eps=0.1):\n",
    "    G = 0\n",
    "    for t in range(len(states) - 1, -1, -1):\n",
    "        G = gamma * G + rewards[t]\n",
    "        s = states[t]\n",
    "        a = actions[t]\n",
    "        N[(s, a)] += 1\n",
    "        Q[(s, a)] += (G - Q[(s, a)]) / N[(s, a)]\n",
    "        policy[s] = get_eps_greedy_probabilities(s, get_greedy_action(Q, s), eps)\n",
    "    return policy, Q, N"
   ]
  },
  {
   "cell_type": "code",
   "execution_count": 20,
   "metadata": {},
   "outputs": [],
   "source": [
    "policy, Q, N = learn_from_episode(policy, Q, N, states, actions, rewards)"
   ]
  },
  {
   "cell_type": "code",
   "execution_count": 21,
   "metadata": {},
   "outputs": [
    {
     "data": {
      "text/plain": [
       "-10.0"
      ]
     },
     "execution_count": 21,
     "metadata": {},
     "output_type": "execute_result"
    }
   ],
   "source": [
    "Q[(states[0], actions[0])]"
   ]
  },
  {
   "cell_type": "code",
   "execution_count": 22,
   "metadata": {},
   "outputs": [
    {
     "ename": "KeyboardInterrupt",
     "evalue": "",
     "output_type": "error",
     "traceback": [
      "\u001b[1;31m---------------------------------------------------------------------------\u001b[0m",
      "\u001b[1;31mKeyboardInterrupt\u001b[0m                         Traceback (most recent call last)",
      "\u001b[1;32mc:\\Users\\c\\Source\\rl_an_introduction\\Chapter_5\\Exercise_5_12\\exercise_5_12.ipynb Cell 22\u001b[0m in \u001b[0;36m<cell line: 4>\u001b[1;34m()\u001b[0m\n\u001b[0;32m      <a href='vscode-notebook-cell:/c%3A/Users/c/Source/rl_an_introduction/Chapter_5/Exercise_5_12/exercise_5_12.ipynb#X30sZmlsZQ%3D%3D?line=4'>5</a>\u001b[0m states, actions, rewards \u001b[39m=\u001b[39m generate_episode(policy, noise\u001b[39m=\u001b[39m\u001b[39m0.0\u001b[39m) \u001b[39m# TODO: Add noise\u001b[39;00m\n\u001b[0;32m      <a href='vscode-notebook-cell:/c%3A/Users/c/Source/rl_an_introduction/Chapter_5/Exercise_5_12/exercise_5_12.ipynb#X30sZmlsZQ%3D%3D?line=5'>6</a>\u001b[0m eps \u001b[39m=\u001b[39m (num_episodes \u001b[39m-\u001b[39m ep) \u001b[39m/\u001b[39m num_episodes\n\u001b[1;32m----> <a href='vscode-notebook-cell:/c%3A/Users/c/Source/rl_an_introduction/Chapter_5/Exercise_5_12/exercise_5_12.ipynb#X30sZmlsZQ%3D%3D?line=6'>7</a>\u001b[0m policy, Q, N \u001b[39m=\u001b[39m learn_from_episode(policy, Q, N, states, actions, rewards, eps\u001b[39m=\u001b[39;49meps)\n",
      "\u001b[1;32mc:\\Users\\c\\Source\\rl_an_introduction\\Chapter_5\\Exercise_5_12\\exercise_5_12.ipynb Cell 22\u001b[0m in \u001b[0;36mlearn_from_episode\u001b[1;34m(policy, Q, N, states, actions, rewards, gamma, eps)\u001b[0m\n\u001b[0;32m      <a href='vscode-notebook-cell:/c%3A/Users/c/Source/rl_an_introduction/Chapter_5/Exercise_5_12/exercise_5_12.ipynb#X30sZmlsZQ%3D%3D?line=7'>8</a>\u001b[0m     N[(s, a)] \u001b[39m+\u001b[39m\u001b[39m=\u001b[39m \u001b[39m1\u001b[39m\n\u001b[0;32m      <a href='vscode-notebook-cell:/c%3A/Users/c/Source/rl_an_introduction/Chapter_5/Exercise_5_12/exercise_5_12.ipynb#X30sZmlsZQ%3D%3D?line=8'>9</a>\u001b[0m     Q[(s, a)] \u001b[39m+\u001b[39m\u001b[39m=\u001b[39m (G \u001b[39m-\u001b[39m Q[(s, a)]) \u001b[39m/\u001b[39m N[(s, a)]\n\u001b[1;32m---> <a href='vscode-notebook-cell:/c%3A/Users/c/Source/rl_an_introduction/Chapter_5/Exercise_5_12/exercise_5_12.ipynb#X30sZmlsZQ%3D%3D?line=9'>10</a>\u001b[0m     policy[s] \u001b[39m=\u001b[39m get_eps_greedy_probabilities(s, get_greedy_action(Q, s), eps)\n\u001b[0;32m     <a href='vscode-notebook-cell:/c%3A/Users/c/Source/rl_an_introduction/Chapter_5/Exercise_5_12/exercise_5_12.ipynb#X30sZmlsZQ%3D%3D?line=10'>11</a>\u001b[0m \u001b[39mreturn\u001b[39;00m policy, Q, N\n",
      "\u001b[1;32mc:\\Users\\c\\Source\\rl_an_introduction\\Chapter_5\\Exercise_5_12\\exercise_5_12.ipynb Cell 22\u001b[0m in \u001b[0;36mget_greedy_action\u001b[1;34m(Q, state)\u001b[0m\n\u001b[0;32m      <a href='vscode-notebook-cell:/c%3A/Users/c/Source/rl_an_introduction/Chapter_5/Exercise_5_12/exercise_5_12.ipynb#X30sZmlsZQ%3D%3D?line=1'>2</a>\u001b[0m max_val \u001b[39m=\u001b[39m \u001b[39m-\u001b[39mnp\u001b[39m.\u001b[39minf\n\u001b[0;32m      <a href='vscode-notebook-cell:/c%3A/Users/c/Source/rl_an_introduction/Chapter_5/Exercise_5_12/exercise_5_12.ipynb#X30sZmlsZQ%3D%3D?line=2'>3</a>\u001b[0m greedy_action \u001b[39m=\u001b[39m \u001b[39mNone\u001b[39;00m\n\u001b[1;32m----> <a href='vscode-notebook-cell:/c%3A/Users/c/Source/rl_an_introduction/Chapter_5/Exercise_5_12/exercise_5_12.ipynb#X30sZmlsZQ%3D%3D?line=3'>4</a>\u001b[0m \u001b[39mfor\u001b[39;00m action \u001b[39min\u001b[39;00m get_available_actions(state):\n\u001b[0;32m      <a href='vscode-notebook-cell:/c%3A/Users/c/Source/rl_an_introduction/Chapter_5/Exercise_5_12/exercise_5_12.ipynb#X30sZmlsZQ%3D%3D?line=4'>5</a>\u001b[0m     \u001b[39mif\u001b[39;00m Q[(state, action)] \u001b[39m>\u001b[39m max_val:\n\u001b[0;32m      <a href='vscode-notebook-cell:/c%3A/Users/c/Source/rl_an_introduction/Chapter_5/Exercise_5_12/exercise_5_12.ipynb#X30sZmlsZQ%3D%3D?line=5'>6</a>\u001b[0m         max_val \u001b[39m=\u001b[39m Q[(state, action)]\n",
      "\u001b[1;32mc:\\Users\\c\\Source\\rl_an_introduction\\Chapter_5\\Exercise_5_12\\exercise_5_12.ipynb Cell 22\u001b[0m in \u001b[0;36mget_available_actions\u001b[1;34m(state)\u001b[0m\n\u001b[1;32m----> <a href='vscode-notebook-cell:/c%3A/Users/c/Source/rl_an_introduction/Chapter_5/Exercise_5_12/exercise_5_12.ipynb#X30sZmlsZQ%3D%3D?line=0'>1</a>\u001b[0m \u001b[39mdef\u001b[39;00m \u001b[39mget_available_actions\u001b[39m(state):\n\u001b[0;32m      <a href='vscode-notebook-cell:/c%3A/Users/c/Source/rl_an_introduction/Chapter_5/Exercise_5_12/exercise_5_12.ipynb#X30sZmlsZQ%3D%3D?line=1'>2</a>\u001b[0m      available_actions \u001b[39m=\u001b[39m []\n\u001b[0;32m      <a href='vscode-notebook-cell:/c%3A/Users/c/Source/rl_an_introduction/Chapter_5/Exercise_5_12/exercise_5_12.ipynb#X30sZmlsZQ%3D%3D?line=2'>3</a>\u001b[0m      x, y, v_x, v_y \u001b[39m=\u001b[39m state\n",
      "\u001b[1;31mKeyboardInterrupt\u001b[0m: "
     ]
    }
   ],
   "source": [
    "# Learn from many episodes\n",
    "num_episodes = 10000\n",
    "policy, Q, N = initialize_learning(1)\n",
    "for ep in range(num_episodes):\n",
    "    states, actions, rewards = generate_episode(policy, noise=0.0) # TODO: Add noise\n",
    "    eps = (num_episodes - ep) / num_episodes\n",
    "    policy, Q, N = learn_from_episode(policy, Q, N, states, actions, rewards, eps=eps)"
   ]
  },
  {
   "cell_type": "code",
   "execution_count": null,
   "metadata": {},
   "outputs": [],
   "source": [
    "len(N.values())"
   ]
  },
  {
   "cell_type": "code",
   "execution_count": null,
   "metadata": {},
   "outputs": [],
   "source": [
    "np.sum(np.array(list(N.values())) != 0)"
   ]
  },
  {
   "cell_type": "code",
   "execution_count": null,
   "metadata": {},
   "outputs": [],
   "source": [
    "states, actions, rewards = generate_episode(policy)\n",
    "plot_trajectory(states)"
   ]
  },
  {
   "cell_type": "code",
   "execution_count": 1,
   "metadata": {},
   "outputs": [
    {
     "ename": "ModuleNotFoundError",
     "evalue": "No module named 'skimage'",
     "output_type": "error",
     "traceback": [
      "\u001b[1;31m---------------------------------------------------------------------------\u001b[0m",
      "\u001b[1;31mModuleNotFoundError\u001b[0m                       Traceback (most recent call last)",
      "\u001b[1;32mc:\\Users\\c\\Source\\rl_an_introduction\\Chapter_5\\Exercise_5_12\\exercise_5_12.ipynb Cell 26\u001b[0m in \u001b[0;36m<cell line: 1>\u001b[1;34m()\u001b[0m\n\u001b[1;32m----> <a href='vscode-notebook-cell:/c%3A/Users/c/Source/rl_an_introduction/Chapter_5/Exercise_5_12/exercise_5_12.ipynb#X34sZmlsZQ%3D%3D?line=0'>1</a>\u001b[0m \u001b[39mfrom\u001b[39;00m \u001b[39mskimage\u001b[39;00m\u001b[39m.\u001b[39;00m\u001b[39mdraw\u001b[39;00m \u001b[39mimport\u001b[39;00m line\n",
      "\u001b[1;31mModuleNotFoundError\u001b[0m: No module named 'skimage'"
     ]
    }
   ],
   "source": [
    "from skimage.draw import line"
   ]
  },
  {
   "cell_type": "code",
   "execution_count": null,
   "metadata": {},
   "outputs": [],
   "source": []
  }
 ],
 "metadata": {
  "kernelspec": {
   "display_name": "Python 3.10.5 64-bit",
   "language": "python",
   "name": "python3"
  },
  "language_info": {
   "codemirror_mode": {
    "name": "ipython",
    "version": 3
   },
   "file_extension": ".py",
   "mimetype": "text/x-python",
   "name": "python",
   "nbconvert_exporter": "python",
   "pygments_lexer": "ipython3",
   "version": "3.10.5"
  },
  "orig_nbformat": 4,
  "vscode": {
   "interpreter": {
    "hash": "1f26179ee78db2aa81e6834ad6dc21cf32f3392ab3632a5346cf30ea04832c43"
   }
  }
 },
 "nbformat": 4,
 "nbformat_minor": 2
}
