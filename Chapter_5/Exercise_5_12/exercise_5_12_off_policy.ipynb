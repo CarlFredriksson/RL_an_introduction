{
 "cells": [
  {
   "cell_type": "code",
   "execution_count": 1,
   "metadata": {},
   "outputs": [],
   "source": [
    "import random\n",
    "random.seed(7)\n",
    "from exercise_5_12 import *"
   ]
  },
  {
   "cell_type": "code",
   "execution_count": 2,
   "metadata": {},
   "outputs": [
    {
     "ename": "NameError",
     "evalue": "name 'N' is not defined",
     "output_type": "error",
     "traceback": [
      "\u001b[1;31m---------------------------------------------------------------------------\u001b[0m",
      "\u001b[1;31mNameError\u001b[0m                                 Traceback (most recent call last)",
      "\u001b[1;32mc:\\Users\\c\\Source\\rl_an_introduction\\Chapter_5\\Exercise_5_12\\exercise_5_12_off_policy.ipynb Cell 2\u001b[0m in \u001b[0;36m<cell line: 4>\u001b[1;34m()\u001b[0m\n\u001b[0;32m      <a href='vscode-notebook-cell:/c%3A/Users/c/Source/rl_an_introduction/Chapter_5/Exercise_5_12/exercise_5_12_off_policy.ipynb#W1sZmlsZQ%3D%3D?line=5'>6</a>\u001b[0m eps \u001b[39m=\u001b[39m \u001b[39m0.5\u001b[39m\n\u001b[0;32m      <a href='vscode-notebook-cell:/c%3A/Users/c/Source/rl_an_introduction/Chapter_5/Exercise_5_12/exercise_5_12_off_policy.ipynb#W1sZmlsZQ%3D%3D?line=6'>7</a>\u001b[0m states, actions, rewards \u001b[39m=\u001b[39m generate_episode(\n\u001b[0;32m      <a href='vscode-notebook-cell:/c%3A/Users/c/Source/rl_an_introduction/Chapter_5/Exercise_5_12/exercise_5_12_off_policy.ipynb#W1sZmlsZQ%3D%3D?line=7'>8</a>\u001b[0m     starting_line, finishing_line, track, b, noise\u001b[39m=\u001b[39m\u001b[39m0.1\u001b[39m, eps\u001b[39m=\u001b[39meps)\n\u001b[1;32m----> <a href='vscode-notebook-cell:/c%3A/Users/c/Source/rl_an_introduction/Chapter_5/Exercise_5_12/exercise_5_12_off_policy.ipynb#W1sZmlsZQ%3D%3D?line=8'>9</a>\u001b[0m policy, b, Q, C \u001b[39m=\u001b[39m learn_from_episode_off_pol(policy, b, Q, N, states, actions, rewards)\n",
      "\u001b[1;31mNameError\u001b[0m: name 'N' is not defined"
     ]
    }
   ],
   "source": [
    "starting_line, finishing_line, track = get_large_map()\n",
    "num_episodes = 1000\n",
    "policy, b, Q, C = initialize_learning_off_pol(starting_line, track)\n",
    "for ep in range(num_episodes):\n",
    "    #eps = (num_episodes - ep) / (2 * num_episodes)\n",
    "    eps = 0.5\n",
    "    states, actions, rewards = generate_episode(\n",
    "        starting_line, finishing_line, track, b, noise=0.1, eps=eps)\n",
    "    policy, b, Q, C = learn_from_episode_off_pol(policy, b, Q, C, states, actions, rewards)"
   ]
  },
  {
   "cell_type": "code",
   "execution_count": null,
   "metadata": {},
   "outputs": [],
   "source": [
    "for _ in range(5):\n",
    "    states, actions, rewards = generate_episode(starting_line, finishing_line, track, policy)\n",
    "    plot_trajectory(starting_line, finishing_line, track, (32, 17), (5, 10), states)"
   ]
  },
  {
   "cell_type": "code",
   "execution_count": null,
   "metadata": {},
   "outputs": [],
   "source": []
  }
 ],
 "metadata": {
  "kernelspec": {
   "display_name": "Python 3.10.5 64-bit",
   "language": "python",
   "name": "python3"
  },
  "language_info": {
   "codemirror_mode": {
    "name": "ipython",
    "version": 3
   },
   "file_extension": ".py",
   "mimetype": "text/x-python",
   "name": "python",
   "nbconvert_exporter": "python",
   "pygments_lexer": "ipython3",
   "version": "3.10.5"
  },
  "orig_nbformat": 4,
  "vscode": {
   "interpreter": {
    "hash": "1f26179ee78db2aa81e6834ad6dc21cf32f3392ab3632a5346cf30ea04832c43"
   }
  }
 },
 "nbformat": 4,
 "nbformat_minor": 2
}
