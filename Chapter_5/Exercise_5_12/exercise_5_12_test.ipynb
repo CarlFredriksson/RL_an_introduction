{
 "cells": [
  {
   "cell_type": "code",
   "execution_count": 1,
   "metadata": {},
   "outputs": [],
   "source": [
    "import random\n",
    "random.seed(7)\n",
    "from exercise_5_12 import *"
   ]
  },
  {
   "cell_type": "code",
   "execution_count": 2,
   "metadata": {},
   "outputs": [],
   "source": [
    "starting_line, finishing_line, track = get_medium_map()"
   ]
  },
  {
   "cell_type": "code",
   "execution_count": 3,
   "metadata": {},
   "outputs": [
    {
     "ename": "ValueError",
     "evalue": "not enough values to unpack (expected 4, got 3)",
     "output_type": "error",
     "traceback": [
      "\u001b[1;31m---------------------------------------------------------------------------\u001b[0m",
      "\u001b[1;31mValueError\u001b[0m                                Traceback (most recent call last)",
      "\u001b[1;32mc:\\Users\\c\\Source\\rl_an_introduction\\Chapter_5\\Exercise_5_12\\exercise_5_12_test.ipynb Cell 3\u001b[0m in \u001b[0;36m<cell line: 4>\u001b[1;34m()\u001b[0m\n\u001b[0;32m      <a href='vscode-notebook-cell:/c%3A/Users/c/Source/rl_an_introduction/Chapter_5/Exercise_5_12/exercise_5_12_test.ipynb#W2sZmlsZQ%3D%3D?line=3'>4</a>\u001b[0m \u001b[39mfor\u001b[39;00m ep \u001b[39min\u001b[39;00m \u001b[39mrange\u001b[39m(num_episodes):\n\u001b[0;32m      <a href='vscode-notebook-cell:/c%3A/Users/c/Source/rl_an_introduction/Chapter_5/Exercise_5_12/exercise_5_12_test.ipynb#W2sZmlsZQ%3D%3D?line=4'>5</a>\u001b[0m     states, actions, rewards \u001b[39m=\u001b[39m generate_episode(starting_line, finishing_line, track, b, noise\u001b[39m=\u001b[39m\u001b[39m0.0\u001b[39m)\n\u001b[1;32m----> <a href='vscode-notebook-cell:/c%3A/Users/c/Source/rl_an_introduction/Chapter_5/Exercise_5_12/exercise_5_12_test.ipynb#W2sZmlsZQ%3D%3D?line=5'>6</a>\u001b[0m     policy, Q, C, x \u001b[39m=\u001b[39m learn_from_episode_off_pol(policy, b, Q, C, states, actions, rewards)\n\u001b[0;32m      <a href='vscode-notebook-cell:/c%3A/Users/c/Source/rl_an_introduction/Chapter_5/Exercise_5_12/exercise_5_12_test.ipynb#W2sZmlsZQ%3D%3D?line=6'>7</a>\u001b[0m     \u001b[39mif\u001b[39;00m x:\n\u001b[0;32m      <a href='vscode-notebook-cell:/c%3A/Users/c/Source/rl_an_introduction/Chapter_5/Exercise_5_12/exercise_5_12_test.ipynb#W2sZmlsZQ%3D%3D?line=7'>8</a>\u001b[0m         z \u001b[39m+\u001b[39m\u001b[39m=\u001b[39m \u001b[39m1\u001b[39m\n",
      "\u001b[1;31mValueError\u001b[0m: not enough values to unpack (expected 4, got 3)"
     ]
    }
   ],
   "source": [
    "num_episodes = 1000\n",
    "policy, b, Q, C = initialize_learning_off_pol(starting_line, track)\n",
    "for ep in range(num_episodes):\n",
    "    states, actions, rewards = generate_episode(starting_line, finishing_line, track, b, noise=0.0)\n",
    "    policy, Q, C = learn_from_episode_off_pol(policy, b, Q, C, states, actions, rewards)"
   ]
  },
  {
   "cell_type": "code",
   "execution_count": null,
   "metadata": {},
   "outputs": [],
   "source": []
  }
 ],
 "metadata": {
  "kernelspec": {
   "display_name": "Python 3.10.5 64-bit",
   "language": "python",
   "name": "python3"
  },
  "language_info": {
   "codemirror_mode": {
    "name": "ipython",
    "version": 3
   },
   "file_extension": ".py",
   "mimetype": "text/x-python",
   "name": "python",
   "nbconvert_exporter": "python",
   "pygments_lexer": "ipython3",
   "version": "3.10.5"
  },
  "orig_nbformat": 4,
  "vscode": {
   "interpreter": {
    "hash": "1f26179ee78db2aa81e6834ad6dc21cf32f3392ab3632a5346cf30ea04832c43"
   }
  }
 },
 "nbformat": 4,
 "nbformat_minor": 2
}
