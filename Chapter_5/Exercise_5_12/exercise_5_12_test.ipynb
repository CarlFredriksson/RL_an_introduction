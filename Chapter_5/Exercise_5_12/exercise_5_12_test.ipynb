{
 "cells": [
  {
   "cell_type": "code",
   "execution_count": 1,
   "metadata": {},
   "outputs": [],
   "source": [
    "import numpy as np\n",
    "import matplotlib.pyplot as plt\n",
    "from matplotlib import colors\n",
    "import random\n",
    "random.seed(7)\n",
    "from collections import Counter"
   ]
  },
  {
   "cell_type": "code",
   "execution_count": 2,
   "metadata": {},
   "outputs": [],
   "source": [
    "starting_line = {(3, 0), (4, 0), (5, 0), (6, 0)}\n",
    "finishing_line = {(9, 3), (9, 4), (9, 5), (9, 6)}\n",
    "track = {\n",
    "    (3,1), (4,1), (5,1), (6,1),\n",
    "    (3,2), (4,2), (5,2), (6,2),\n",
    "    (3,3), (4,3), (5,3), (6,3), (7,3), (8,3),\n",
    "    (3,4), (4,4), (5,4), (6,4), (7,4), (8,4),\n",
    "    (3,5), (4,5), (5,5), (6,5), (7,5), (8,5),\n",
    "    (3,6), (4,6), (5,6), (6,6), (7,6), (8,6),\n",
    "}"
   ]
  },
  {
   "cell_type": "code",
   "execution_count": 3,
   "metadata": {},
   "outputs": [
    {
     "data": {
      "image/png": "[encoded data removed]",
      "text/plain": [
       "<Figure size 648x504 with 1 Axes>"
      ]
     },
     "metadata": {
      "needs_background": "light"
     },
     "output_type": "display_data"
    }
   ],
   "source": [
    "def plot_map():\n",
    "    data = np.zeros((8, 11))\n",
    "    for i in range(data.shape[0]):\n",
    "        for j in range(data.shape[1]):\n",
    "            if (j, i) in track:\n",
    "                data[i, j] = 1\n",
    "            elif (j, i) in starting_line:\n",
    "                data[i, j] = 2\n",
    "            elif(j, i) in finishing_line:\n",
    "                data[i, j] = 3\n",
    "    fig, ax = plt.subplots(figsize=(9, 7))\n",
    "    ax.set_xticks(np.arange(0, 18, 1))\n",
    "    ax.set_yticks(np.arange(0, 9, 1))\n",
    "    cmap = colors.ListedColormap([\"black\", \"white\", \"red\", \"green\"])\n",
    "    plt.pcolormesh(data, edgecolors=\"k\", cmap=cmap)\n",
    "plot_map()"
   ]
  },
  {
   "cell_type": "code",
   "execution_count": 4,
   "metadata": {},
   "outputs": [],
   "source": [
    "def get_available_actions(state):\n",
    "     available_actions = []\n",
    "     x, y, v_x, v_y = state\n",
    "     for v_x_inc in (-1, 0, 1):\n",
    "          v_x_new = v_x + v_x_inc\n",
    "          for v_y_inc in (-1, 0, 1):\n",
    "               v_y_new = v_y + v_y_inc\n",
    "               if not (v_x_new < 0 or v_y_new < 0 or v_x_new > 5 or v_y_new > 5 or\n",
    "                    (v_x_new == 0 and v_y_new == 0)):\n",
    "                    available_actions.append((v_x_inc, v_y_inc))\n",
    "     return available_actions\n"
   ]
  },
  {
   "cell_type": "code",
   "execution_count": 5,
   "metadata": {},
   "outputs": [
    {
     "data": {
      "text/plain": [
       "[(0, 1), (1, 0), (1, 1)]"
      ]
     },
     "execution_count": 5,
     "metadata": {},
     "output_type": "execute_result"
    }
   ],
   "source": [
    "state = (5, 0, 0, 0)\n",
    "get_available_actions(state)"
   ]
  },
  {
   "cell_type": "code",
   "execution_count": 6,
   "metadata": {},
   "outputs": [],
   "source": [
    "def get_eps_greedy_probabilities(state, greedy_action, eps=0):\n",
    "    probabilities = {}\n",
    "    available_actions = get_available_actions(state)\n",
    "    num_available_actions = len(available_actions)\n",
    "    for action in available_actions:\n",
    "        probabilities[action] = eps / num_available_actions\n",
    "        if action == greedy_action:\n",
    "            probabilities[action] += 1 - eps\n",
    "    return probabilities"
   ]
  },
  {
   "cell_type": "code",
   "execution_count": 7,
   "metadata": {},
   "outputs": [
    {
     "data": {
      "text/plain": [
       "{(-1, -1): 0.011111111111111112,\n",
       " (-1, 0): 0.011111111111111112,\n",
       " (-1, 1): 0.011111111111111112,\n",
       " (0, -1): 0.011111111111111112,\n",
       " (0, 0): 0.011111111111111112,\n",
       " (0, 1): 0.9111111111111111,\n",
       " (1, -1): 0.011111111111111112,\n",
       " (1, 0): 0.011111111111111112,\n",
       " (1, 1): 0.011111111111111112}"
      ]
     },
     "execution_count": 7,
     "metadata": {},
     "output_type": "execute_result"
    }
   ],
   "source": [
    "state = (3, 4, 3, 4)\n",
    "get_eps_greedy_probabilities(state, random.choice(get_available_actions(state)), eps=0.1)"
   ]
  },
  {
   "cell_type": "code",
   "execution_count": 8,
   "metadata": {},
   "outputs": [],
   "source": [
    "def generate_start_state():\n",
    "    start_x, start_y = random.choice(list(starting_line))\n",
    "    return start_x, start_y, 0, 0"
   ]
  },
  {
   "cell_type": "code",
   "execution_count": 9,
   "metadata": {},
   "outputs": [
    {
     "data": {
      "text/plain": [
       "(5, 0, 0, 0)"
      ]
     },
     "execution_count": 9,
     "metadata": {},
     "output_type": "execute_result"
    }
   ],
   "source": [
    "generate_start_state()"
   ]
  },
  {
   "cell_type": "code",
   "execution_count": 10,
   "metadata": {},
   "outputs": [],
   "source": [
    "def initialize_learning(eps):\n",
    "    policy = {}\n",
    "    Q = {}\n",
    "    N = {}\n",
    "    for x, y in starting_line.union(track):\n",
    "        for v_x in range(6):\n",
    "            for v_y in range(6):\n",
    "                state = (x, y, v_x, v_y)\n",
    "                available_actions = get_available_actions(state)\n",
    "                policy[state] = get_eps_greedy_probabilities(state, random.choice(available_actions), eps)\n",
    "                for a in available_actions:\n",
    "                    Q[(state, a)] = 0\n",
    "                    N[(state, a)] = 0\n",
    "    return policy, Q, N"
   ]
  },
  {
   "cell_type": "code",
   "execution_count": 11,
   "metadata": {},
   "outputs": [
    {
     "name": "stdout",
     "output_type": "stream",
     "text": [
      "state s: (5, 6, 5, 5) - policy(s): {(-1, -1): 0.025, (-1, 0): 0.925, (0, -1): 0.025, (0, 0): 0.025}\n",
      "state-action pair (s, a): ((5, 6, 5, 5), (0, 0)) - Q(s, a): 0\n",
      "state-action pair (s, a): ((5, 6, 5, 5), (0, 0)) - N(s, a): 0\n"
     ]
    }
   ],
   "source": [
    "policy, Q, N = initialize_learning(0.1)\n",
    "s = (5, 6, 5, 5)\n",
    "a = random.choice(list(policy[s].keys()))\n",
    "print(\"state s:\", str(s), \"- policy(s):\", str(policy[s]))\n",
    "print(\"state-action pair (s, a):\", f\"({s}, {a})\", \"- Q(s, a):\", Q[(s, a)])\n",
    "print(\"state-action pair (s, a):\", f\"({s}, {a})\", \"- N(s, a):\", N[(s, a)])"
   ]
  },
  {
   "cell_type": "code",
   "execution_count": 12,
   "metadata": {},
   "outputs": [],
   "source": [
    "def select_action_according_to_policy(policy, state):\n",
    "    return random.choices(list(policy[state].keys()), list(policy[state].values()))[0]"
   ]
  },
  {
   "cell_type": "code",
   "execution_count": 13,
   "metadata": {},
   "outputs": [
    {
     "name": "stdout",
     "output_type": "stream",
     "text": [
      "{(-1, -1): 0.011111111111111112, (-1, 0): 0.011111111111111112, (-1, 1): 0.011111111111111112, (0, -1): 0.011111111111111112, (0, 0): 0.9111111111111111, (0, 1): 0.011111111111111112, (1, -1): 0.011111111111111112, (1, 0): 0.011111111111111112, (1, 1): 0.011111111111111112}\n",
      "dict_keys([(0, 0), (0, -1), (1, 1), (1, 0), (-1, -1), (-1, 1), (-1, 0), (0, 1), (1, -1)])\n",
      "dict_values([91158, 1086, 1055, 1109, 1122, 1118, 1109, 1151, 1092])\n"
     ]
    }
   ],
   "source": [
    "state = (3, 4, 3, 4)\n",
    "x = [select_action_according_to_policy(policy, state) for _ in range(100000)]\n",
    "print(policy[state])\n",
    "print(Counter(x).keys())\n",
    "print(Counter(x).values())"
   ]
  },
  {
   "cell_type": "code",
   "execution_count": 14,
   "metadata": {},
   "outputs": [],
   "source": [
    "def generate_episode(policy, max_num_steps=1000000, noise=0):\n",
    "    states = []\n",
    "    actions = []\n",
    "    rewards = []\n",
    "    state = generate_start_state()\n",
    "    for t in range(max_num_steps):\n",
    "        states.append(state)\n",
    "        x, y, v_x, v_y = state\n",
    "        action = select_action_according_to_policy(policy, state)\n",
    "        actions.append(action)\n",
    "        if random.random() < noise:\n",
    "            action = (0, 0)\n",
    "        new_v_x = v_x + action[0]\n",
    "        new_v_y = v_y + action[1]\n",
    "        new_x = x + new_v_x\n",
    "        new_y = y + new_v_y\n",
    "        state = (new_x, new_y, new_v_x, new_v_y)\n",
    "        if new_x >= 9 and new_y >= 3 and new_y <= 6:\n",
    "            # Crossed finishing line\n",
    "            rewards.append(0)\n",
    "            break\n",
    "        elif (new_x, new_y) not in starting_line.union(track):\n",
    "            # Ran out of bounds\n",
    "            state = generate_start_state()\n",
    "        rewards.append(-1)\n",
    "    return states, actions, rewards"
   ]
  },
  {
   "cell_type": "code",
   "execution_count": 15,
   "metadata": {},
   "outputs": [
    {
     "name": "stdout",
     "output_type": "stream",
     "text": [
      "[(4, 0, 0, 0), (5, 0, 1, 0), (6, 0, 0, 0), (6, 0, 0, 0), (4, 0, 0, 0), (5, 0, 1, 0), (5, 0, 0, 0), (6, 1, 1, 1), (5, 0, 0, 0), (6, 1, 1, 1), (6, 0, 0, 0), (6, 0, 0, 0)]\n",
      "[(1, 0), (1, 1), (1, 0), (1, 0), (1, 0), (1, 1), (1, 1), (0, 0), (1, 1), (0, 0), (1, 0), (1, 0)]\n",
      "[-1, -1, -1, -1, -1, -1, -1, -1, -1, -1, -1, -1]\n"
     ]
    }
   ],
   "source": [
    "states, actions, rewards = generate_episode(policy, max_num_steps=12)\n",
    "print(states)\n",
    "print(actions)\n",
    "print(rewards)"
   ]
  },
  {
   "cell_type": "code",
   "execution_count": 16,
   "metadata": {},
   "outputs": [],
   "source": [
    "def plot_trajectory(states):\n",
    "    plot_map()\n",
    "    x = []\n",
    "    y = []\n",
    "    for i in range(len(states)):\n",
    "        x.append(states[i][0] + 0.5)\n",
    "        y.append(states[i][1] + 0.5)\n",
    "    plt.plot(x, y, \"-o\")"
   ]
  },
  {
   "cell_type": "code",
   "execution_count": 17,
   "metadata": {},
   "outputs": [
    {
     "data": {
      "image/png": "[encoded data removed]",
      "text/plain": [
       "<Figure size 648x504 with 1 Axes>"
      ]
     },
     "metadata": {
      "needs_background": "light"
     },
     "output_type": "display_data"
    }
   ],
   "source": [
    "plot_trajectory(states)"
   ]
  },
  {
   "cell_type": "code",
   "execution_count": 18,
   "metadata": {},
   "outputs": [],
   "source": [
    "def get_greedy_action(Q, state):\n",
    "    max_val = -np.inf\n",
    "    greedy_action = None\n",
    "    for action in get_available_actions(state):\n",
    "        if Q[(state, action)] > max_val:\n",
    "            max_val = Q[(state, action)]\n",
    "            greedy_action = action\n",
    "    return greedy_action"
   ]
  },
  {
   "cell_type": "code",
   "execution_count": 19,
   "metadata": {},
   "outputs": [],
   "source": [
    "# On-policy every visit MC control (eps-soft policies)\n",
    "def learn_from_episode(policy, Q, N, states, actions, rewards, gamma=1, eps=0.1):\n",
    "    G = 0\n",
    "    for t in range(len(states) - 1, -1, -1):\n",
    "        G = gamma * G + rewards[t]\n",
    "        s = states[t]\n",
    "        a = actions[t]\n",
    "        N[(s, a)] += 1\n",
    "        Q[(s, a)] += (G - Q[(s, a)]) / N[(s, a)]\n",
    "        policy[s] = get_eps_greedy_probabilities(s, get_greedy_action(Q, s), eps)\n",
    "    return policy, Q, N"
   ]
  },
  {
   "cell_type": "code",
   "execution_count": 20,
   "metadata": {},
   "outputs": [],
   "source": [
    "policy, Q, N = learn_from_episode(policy, Q, N, states, actions, rewards)"
   ]
  },
  {
   "cell_type": "code",
   "execution_count": 21,
   "metadata": {},
   "outputs": [
    {
     "data": {
      "text/plain": [
       "-10.0"
      ]
     },
     "execution_count": 21,
     "metadata": {},
     "output_type": "execute_result"
    }
   ],
   "source": [
    "Q[(states[0], actions[0])]"
   ]
  },
  {
   "cell_type": "code",
   "execution_count": 22,
   "metadata": {},
   "outputs": [],
   "source": [
    "# Learn from many episodes\n",
    "num_episodes = 100000\n",
    "policy, Q, N = initialize_learning(1)\n",
    "for ep in range(num_episodes):\n",
    "    states, actions, rewards = generate_episode(policy, noise=0.0) # TODO: Add noise\n",
    "    eps = (num_episodes - ep) / (2 * num_episodes)\n",
    "    policy, Q, N = learn_from_episode(policy, Q, N, states, actions, rewards, eps=eps)"
   ]
  },
  {
   "cell_type": "code",
   "execution_count": 23,
   "metadata": {},
   "outputs": [
    {
     "data": {
      "text/plain": [
       "9072"
      ]
     },
     "execution_count": 23,
     "metadata": {},
     "output_type": "execute_result"
    }
   ],
   "source": [
    "len(N.values())"
   ]
  },
  {
   "cell_type": "code",
   "execution_count": 24,
   "metadata": {},
   "outputs": [
    {
     "data": {
      "text/plain": [
       "1138"
      ]
     },
     "execution_count": 24,
     "metadata": {},
     "output_type": "execute_result"
    }
   ],
   "source": [
    "np.sum(np.array(list(N.values())) != 0)"
   ]
  },
  {
   "cell_type": "code",
   "execution_count": 25,
   "metadata": {},
   "outputs": [
    {
     "data": {
      "image/png": "[encoded data removed]",
      "text/plain": [
       "<Figure size 648x504 with 1 Axes>"
      ]
     },
     "metadata": {
      "needs_background": "light"
     },
     "output_type": "display_data"
    }
   ],
   "source": [
    "states, actions, rewards = generate_episode(policy)\n",
    "plot_trajectory(states)"
   ]
  },
  {
   "cell_type": "code",
   "execution_count": 26,
   "metadata": {},
   "outputs": [
    {
     "data": {
      "image/png": "[encoded data removed]",
      "text/plain": [
       "<Figure size 648x504 with 1 Axes>"
      ]
     },
     "metadata": {
      "needs_background": "light"
     },
     "output_type": "display_data"
    }
   ],
   "source": [
    "states, actions, rewards = generate_episode(policy)\n",
    "plot_trajectory(states)"
   ]
  },
  {
   "cell_type": "code",
   "execution_count": 27,
   "metadata": {},
   "outputs": [
    {
     "data": {
      "image/png": "[encoded data removed]",
      "text/plain": [
       "<Figure size 648x504 with 1 Axes>"
      ]
     },
     "metadata": {
      "needs_background": "light"
     },
     "output_type": "display_data"
    }
   ],
   "source": [
    "states, actions, rewards = generate_episode(policy)\n",
    "plot_trajectory(states)"
   ]
  },
  {
   "cell_type": "code",
   "execution_count": 28,
   "metadata": {},
   "outputs": [
    {
     "data": {
      "image/png": "[encoded data removed]",
      "text/plain": [
       "<Figure size 648x504 with 1 Axes>"
      ]
     },
     "metadata": {
      "needs_background": "light"
     },
     "output_type": "display_data"
    }
   ],
   "source": [
    "states, actions, rewards = generate_episode(policy)\n",
    "plot_trajectory(states)"
   ]
  },
  {
   "cell_type": "code",
   "execution_count": null,
   "metadata": {},
   "outputs": [],
   "source": []
  }
 ],
 "metadata": {
  "kernelspec": {
   "display_name": "Python 3.10.5 64-bit",
   "language": "python",
   "name": "python3"
  },
  "language_info": {
   "codemirror_mode": {
    "name": "ipython",
    "version": 3
   },
   "file_extension": ".py",
   "mimetype": "text/x-python",
   "name": "python",
   "nbconvert_exporter": "python",
   "pygments_lexer": "ipython3",
   "version": "3.10.5"
  },
  "orig_nbformat": 4,
  "vscode": {
   "interpreter": {
    "hash": "1f26179ee78db2aa81e6834ad6dc21cf32f3392ab3632a5346cf30ea04832c43"
   }
  }
 },
 "nbformat": 4,
 "nbformat_minor": 2
}
