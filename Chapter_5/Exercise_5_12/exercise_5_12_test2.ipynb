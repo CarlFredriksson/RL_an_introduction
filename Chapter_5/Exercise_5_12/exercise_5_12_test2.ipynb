{
 "cells": [
  {
   "cell_type": "code",
   "execution_count": 1,
   "metadata": {},
   "outputs": [],
   "source": [
    "import numpy as np\n",
    "import matplotlib.pyplot as plt\n",
    "from matplotlib import colors\n",
    "import random\n",
    "random.seed(7)\n",
    "from collections import Counter"
   ]
  },
  {
   "cell_type": "code",
   "execution_count": 2,
   "metadata": {},
   "outputs": [],
   "source": [
    "starting_line = {(3, 0)}\n",
    "finishing_line = {(4, 1)}\n",
    "track = {\n",
    "    (3,1)\n",
    "}"
   ]
  },
  {
   "cell_type": "code",
   "execution_count": 3,
   "metadata": {},
   "outputs": [
    {
     "data": {
      "image/png": "[encoded data removed]",
      "text/plain": [
       "<Figure size 648x504 with 1 Axes>"
      ]
     },
     "metadata": {
      "needs_background": "light"
     },
     "output_type": "display_data"
    }
   ],
   "source": [
    "def plot_map():\n",
    "    data = np.zeros((8, 11))\n",
    "    for i in range(data.shape[0]):\n",
    "        for j in range(data.shape[1]):\n",
    "            if (j, i) in track:\n",
    "                data[i, j] = 1\n",
    "            elif (j, i) in starting_line:\n",
    "                data[i, j] = 2\n",
    "            elif(j, i) in finishing_line:\n",
    "                data[i, j] = 3\n",
    "    fig, ax = plt.subplots(figsize=(9, 7))\n",
    "    ax.set_xticks(np.arange(0, 18, 1))\n",
    "    ax.set_yticks(np.arange(0, 9, 1))\n",
    "    cmap = colors.ListedColormap([\"black\", \"white\", \"red\", \"green\"])\n",
    "    plt.pcolormesh(data, edgecolors=\"k\", cmap=cmap)\n",
    "plot_map()"
   ]
  },
  {
   "cell_type": "code",
   "execution_count": 4,
   "metadata": {},
   "outputs": [],
   "source": [
    "def get_available_actions(state):\n",
    "     available_actions = []\n",
    "     x, y, v_x, v_y = state\n",
    "     for v_x_inc in (-1, 0, 1):\n",
    "          v_x_new = v_x + v_x_inc\n",
    "          for v_y_inc in (-1, 0, 1):\n",
    "               v_y_new = v_y + v_y_inc\n",
    "               if not (v_x_new < 0 or v_y_new < 0 or v_x_new > 5 or v_y_new > 5 or\n",
    "                    (v_x_new == 0 and v_y_new == 0)):\n",
    "                    available_actions.append((v_x_inc, v_y_inc))\n",
    "     return available_actions\n"
   ]
  },
  {
   "cell_type": "code",
   "execution_count": 5,
   "metadata": {},
   "outputs": [
    {
     "data": {
      "text/plain": [
       "[(0, 1), (1, 0), (1, 1)]"
      ]
     },
     "execution_count": 5,
     "metadata": {},
     "output_type": "execute_result"
    }
   ],
   "source": [
    "state = (5, 0, 0, 0)\n",
    "get_available_actions(state)"
   ]
  },
  {
   "cell_type": "code",
   "execution_count": 6,
   "metadata": {},
   "outputs": [],
   "source": [
    "def get_eps_greedy_probabilities(state, greedy_action, eps=0):\n",
    "    probabilities = {}\n",
    "    available_actions = get_available_actions(state)\n",
    "    num_available_actions = len(available_actions)\n",
    "    for action in available_actions:\n",
    "        probabilities[action] = eps / num_available_actions\n",
    "        if action == greedy_action:\n",
    "            probabilities[action] += 1 - eps\n",
    "    return probabilities"
   ]
  },
  {
   "cell_type": "code",
   "execution_count": 7,
   "metadata": {},
   "outputs": [
    {
     "data": {
      "text/plain": [
       "{(-1, -1): 0.011111111111111112,\n",
       " (-1, 0): 0.011111111111111112,\n",
       " (-1, 1): 0.011111111111111112,\n",
       " (0, -1): 0.011111111111111112,\n",
       " (0, 0): 0.011111111111111112,\n",
       " (0, 1): 0.9111111111111111,\n",
       " (1, -1): 0.011111111111111112,\n",
       " (1, 0): 0.011111111111111112,\n",
       " (1, 1): 0.011111111111111112}"
      ]
     },
     "execution_count": 7,
     "metadata": {},
     "output_type": "execute_result"
    }
   ],
   "source": [
    "state = (3, 1, 3, 4)\n",
    "get_eps_greedy_probabilities(state, random.choice(get_available_actions(state)), eps=0.1)"
   ]
  },
  {
   "cell_type": "code",
   "execution_count": 8,
   "metadata": {},
   "outputs": [],
   "source": [
    "def generate_start_state():\n",
    "    start_x, start_y = random.choice(list(starting_line))\n",
    "    return start_x, start_y, 0, 0"
   ]
  },
  {
   "cell_type": "code",
   "execution_count": 9,
   "metadata": {},
   "outputs": [
    {
     "data": {
      "text/plain": [
       "(3, 0, 0, 0)"
      ]
     },
     "execution_count": 9,
     "metadata": {},
     "output_type": "execute_result"
    }
   ],
   "source": [
    "generate_start_state()"
   ]
  },
  {
   "cell_type": "code",
   "execution_count": 10,
   "metadata": {},
   "outputs": [],
   "source": [
    "def initialize_learning(eps):\n",
    "    policy = {}\n",
    "    Q = {}\n",
    "    N = {}\n",
    "    for x, y in starting_line.union(track):\n",
    "        for v_x in range(6):\n",
    "            for v_y in range(6):\n",
    "                state = (x, y, v_x, v_y)\n",
    "                available_actions = get_available_actions(state)\n",
    "                policy[state] = get_eps_greedy_probabilities(state, random.choice(available_actions), eps)\n",
    "                for a in available_actions:\n",
    "                    Q[(state, a)] = 0\n",
    "                    N[(state, a)] = 0\n",
    "    return policy, Q, N"
   ]
  },
  {
   "cell_type": "code",
   "execution_count": 11,
   "metadata": {},
   "outputs": [
    {
     "name": "stdout",
     "output_type": "stream",
     "text": [
      "state s: (3, 1, 5, 5) - policy(s): {(-1, -1): 0.925, (-1, 0): 0.025, (0, -1): 0.025, (0, 0): 0.025}\n",
      "state-action pair (s, a): ((3, 1, 5, 5), (-1, -1)) - Q(s, a): 0\n",
      "state-action pair (s, a): ((3, 1, 5, 5), (-1, -1)) - N(s, a): 0\n"
     ]
    }
   ],
   "source": [
    "policy, Q, N = initialize_learning(0.1)\n",
    "s = (3, 1, 5, 5)\n",
    "a = random.choice(list(policy[s].keys()))\n",
    "print(\"state s:\", str(s), \"- policy(s):\", str(policy[s]))\n",
    "print(\"state-action pair (s, a):\", f\"({s}, {a})\", \"- Q(s, a):\", Q[(s, a)])\n",
    "print(\"state-action pair (s, a):\", f\"({s}, {a})\", \"- N(s, a):\", N[(s, a)])"
   ]
  },
  {
   "cell_type": "code",
   "execution_count": 12,
   "metadata": {},
   "outputs": [],
   "source": [
    "def select_action_according_to_policy(policy, state):\n",
    "    return random.choices(list(policy[state].keys()), list(policy[state].values()))[0]"
   ]
  },
  {
   "cell_type": "code",
   "execution_count": 13,
   "metadata": {},
   "outputs": [
    {
     "name": "stdout",
     "output_type": "stream",
     "text": [
      "{(-1, -1): 0.011111111111111112, (-1, 0): 0.011111111111111112, (-1, 1): 0.011111111111111112, (0, -1): 0.011111111111111112, (0, 0): 0.9111111111111111, (0, 1): 0.011111111111111112, (1, -1): 0.011111111111111112, (1, 0): 0.011111111111111112, (1, 1): 0.011111111111111112}\n",
      "dict_keys([(0, 0), (0, 1), (1, 0), (-1, 0), (1, 1), (1, -1), (-1, -1), (-1, 1), (0, -1)])\n",
      "dict_values([91037, 1083, 1142, 1111, 1187, 1084, 1113, 1126, 1117])\n"
     ]
    }
   ],
   "source": [
    "state = (3, 0, 3, 4)\n",
    "x = [select_action_according_to_policy(policy, state) for _ in range(100000)]\n",
    "print(policy[state])\n",
    "print(Counter(x).keys())\n",
    "print(Counter(x).values())"
   ]
  },
  {
   "cell_type": "code",
   "execution_count": 14,
   "metadata": {},
   "outputs": [],
   "source": [
    "def generate_episode(policy, max_num_steps=1000000, noise=0):\n",
    "    states = []\n",
    "    actions = []\n",
    "    rewards = []\n",
    "    state = generate_start_state()\n",
    "    for t in range(max_num_steps):\n",
    "        states.append(state)\n",
    "        x, y, v_x, v_y = state\n",
    "        action = select_action_according_to_policy(policy, state)\n",
    "        actions.append(action)\n",
    "        if random.random() < noise:\n",
    "            action = (0, 0)\n",
    "        new_v_x = v_x + action[0]\n",
    "        new_v_y = v_y + action[1]\n",
    "        new_x = x + new_v_x\n",
    "        new_y = y + new_v_y\n",
    "        state = (new_x, new_y, new_v_x, new_v_y)\n",
    "        if new_x >= 4 and new_y >= 1 and new_y <= 1:\n",
    "            # Crossed finishing line\n",
    "            rewards.append(0)\n",
    "            break\n",
    "        elif (new_x, new_y) not in starting_line.union(track):\n",
    "            # Ran out of bounds\n",
    "            state = generate_start_state()\n",
    "        rewards.append(-1)\n",
    "    return states, actions, rewards"
   ]
  },
  {
   "cell_type": "code",
   "execution_count": 15,
   "metadata": {},
   "outputs": [
    {
     "name": "stdout",
     "output_type": "stream",
     "text": [
      "[(3, 0, 0, 0)]\n",
      "[(1, 1)]\n",
      "[0]\n"
     ]
    }
   ],
   "source": [
    "states, actions, rewards = generate_episode(policy, max_num_steps=12)\n",
    "print(states)\n",
    "print(actions)\n",
    "print(rewards)"
   ]
  },
  {
   "cell_type": "code",
   "execution_count": 16,
   "metadata": {},
   "outputs": [],
   "source": [
    "def plot_trajectory(states):\n",
    "    plot_map()\n",
    "    x = []\n",
    "    y = []\n",
    "    for i in range(len(states)):\n",
    "        x.append(states[i][0] + 0.5)\n",
    "        y.append(states[i][1] + 0.5)\n",
    "    plt.plot(x, y, \"-o\")"
   ]
  },
  {
   "cell_type": "code",
   "execution_count": 17,
   "metadata": {},
   "outputs": [
    {
     "data": {
      "image/png": "[encoded data removed]",
      "text/plain": [
       "<Figure size 648x504 with 1 Axes>"
      ]
     },
     "metadata": {
      "needs_background": "light"
     },
     "output_type": "display_data"
    }
   ],
   "source": [
    "plot_trajectory(states)"
   ]
  },
  {
   "cell_type": "code",
   "execution_count": 18,
   "metadata": {},
   "outputs": [],
   "source": [
    "def get_greedy_action(Q, state):\n",
    "    max_val = -np.inf\n",
    "    greedy_action = None\n",
    "    for action in get_available_actions(state):\n",
    "        if Q[(state, action)] > max_val:\n",
    "            max_val = Q[(state, action)]\n",
    "            greedy_action = action\n",
    "    return greedy_action"
   ]
  },
  {
   "cell_type": "code",
   "execution_count": 19,
   "metadata": {},
   "outputs": [],
   "source": [
    "# On-policy every visit MC control (eps-soft policies)\n",
    "def learn_from_episode(policy, Q, N, states, actions, rewards, gamma=1, eps=0.1):\n",
    "    G = 0\n",
    "    for t in range(len(states) - 1, -1, -1):\n",
    "        G = gamma * G + rewards[t]\n",
    "        s = states[t]\n",
    "        a = actions[t]\n",
    "        N[(s, a)] += 1\n",
    "        Q[(s, a)] += (G - Q[(s, a)]) / N[(s, a)]\n",
    "        policy[s] = get_eps_greedy_probabilities(s, get_greedy_action(Q, s), eps)\n",
    "    return policy, Q, N"
   ]
  },
  {
   "cell_type": "code",
   "execution_count": 20,
   "metadata": {},
   "outputs": [],
   "source": [
    "policy, Q, N = learn_from_episode(policy, Q, N, states, actions, rewards)"
   ]
  },
  {
   "cell_type": "code",
   "execution_count": 21,
   "metadata": {},
   "outputs": [
    {
     "data": {
      "text/plain": [
       "0.0"
      ]
     },
     "execution_count": 21,
     "metadata": {},
     "output_type": "execute_result"
    }
   ],
   "source": [
    "Q[(states[0], actions[0])]"
   ]
  },
  {
   "cell_type": "code",
   "execution_count": 22,
   "metadata": {},
   "outputs": [
    {
     "data": {
      "text/plain": [
       "1"
      ]
     },
     "execution_count": 22,
     "metadata": {},
     "output_type": "execute_result"
    }
   ],
   "source": [
    "np.sum(np.array(list(N.values())) != 0)"
   ]
  },
  {
   "cell_type": "code",
   "execution_count": 23,
   "metadata": {},
   "outputs": [],
   "source": [
    "# Learn from many episodes\n",
    "num_episodes = 10000\n",
    "policy, Q, N = initialize_learning(1)\n",
    "for ep in range(num_episodes):\n",
    "    states, actions, rewards = generate_episode(policy, noise=0.0) # TODO: Add noise\n",
    "    eps = (num_episodes - ep) / (2 * num_episodes)\n",
    "    policy, Q, N = learn_from_episode(policy, Q, N, states, actions, rewards, eps=eps)"
   ]
  },
  {
   "cell_type": "code",
   "execution_count": 24,
   "metadata": {},
   "outputs": [
    {
     "data": {
      "text/plain": [
       "504"
      ]
     },
     "execution_count": 24,
     "metadata": {},
     "output_type": "execute_result"
    }
   ],
   "source": [
    "len(N.values())"
   ]
  },
  {
   "cell_type": "code",
   "execution_count": 25,
   "metadata": {},
   "outputs": [
    {
     "data": {
      "text/plain": [
       "8"
      ]
     },
     "execution_count": 25,
     "metadata": {},
     "output_type": "execute_result"
    }
   ],
   "source": [
    "np.sum(np.array(list(N.values())) != 0)"
   ]
  },
  {
   "cell_type": "code",
   "execution_count": 26,
   "metadata": {},
   "outputs": [
    {
     "data": {
      "text/plain": [
       "[((3, 1, 0, 1), (0, 0)),\n",
       " ((3, 1, 0, 1), (0, 1)),\n",
       " ((3, 1, 0, 1), (1, -1)),\n",
       " ((3, 1, 0, 1), (1, 0)),\n",
       " ((3, 1, 0, 1), (1, 1)),\n",
       " ((3, 0, 0, 0), (0, 1)),\n",
       " ((3, 0, 0, 0), (1, 0)),\n",
       " ((3, 0, 0, 0), (1, 1))]"
      ]
     },
     "execution_count": 26,
     "metadata": {},
     "output_type": "execute_result"
    }
   ],
   "source": [
    "[k for k,v in N.items() if v > 0]"
   ]
  },
  {
   "cell_type": "code",
   "execution_count": 27,
   "metadata": {},
   "outputs": [
    {
     "data": {
      "text/plain": [
       "['((3, 1, 0, 1), (0, 0)): -3.318865740740737',\n",
       " '((3, 1, 0, 1), (0, 1)): -3.4565345949142485',\n",
       " '((3, 1, 0, 1), (1, -1)): 0.0',\n",
       " '((3, 1, 0, 1), (1, 0)): -3.4706208425720595',\n",
       " '((3, 1, 0, 1), (1, 1)): -3.457465794170144',\n",
       " '((3, 0, 0, 0), (0, 1)): -3.748112001858945',\n",
       " '((3, 0, 0, 0), (1, 0)): -3.490481135340945',\n",
       " '((3, 0, 0, 0), (1, 1)): 0.0']"
      ]
     },
     "execution_count": 27,
     "metadata": {},
     "output_type": "execute_result"
    }
   ],
   "source": [
    "[str(k) + \": \" + str(Q[k]) for k,v in N.items() if v > 0]"
   ]
  },
  {
   "cell_type": "code",
   "execution_count": 28,
   "metadata": {},
   "outputs": [
    {
     "data": {
      "text/plain": [
       "['((3, 1, 0, 1), (0, 0)): {(0, 0): 0.2, (0, 1): 0.2, (1, -1): 0.2, (1, 0): 0.2, (1, 1): 0.2}',\n",
       " '((3, 1, 0, 1), (0, 1)): {(0, 0): 0.2, (0, 1): 0.2, (1, -1): 0.2, (1, 0): 0.2, (1, 1): 0.2}',\n",
       " '((3, 1, 0, 1), (1, -1)): {(0, 0): 0.2, (0, 1): 0.2, (1, -1): 0.2, (1, 0): 0.2, (1, 1): 0.2}',\n",
       " '((3, 1, 0, 1), (1, 0)): {(0, 0): 0.2, (0, 1): 0.2, (1, -1): 0.2, (1, 0): 0.2, (1, 1): 0.2}',\n",
       " '((3, 1, 0, 1), (1, 1)): {(0, 0): 0.2, (0, 1): 0.2, (1, -1): 0.2, (1, 0): 0.2, (1, 1): 0.2}',\n",
       " '((3, 0, 0, 0), (0, 1)): {(0, 1): 0.3333333333333333, (1, 0): 0.3333333333333333, (1, 1): 0.3333333333333333}',\n",
       " '((3, 0, 0, 0), (1, 0)): {(0, 1): 0.3333333333333333, (1, 0): 0.3333333333333333, (1, 1): 0.3333333333333333}',\n",
       " '((3, 0, 0, 0), (1, 1)): {(0, 1): 0.3333333333333333, (1, 0): 0.3333333333333333, (1, 1): 0.3333333333333333}']"
      ]
     },
     "execution_count": 28,
     "metadata": {},
     "output_type": "execute_result"
    }
   ],
   "source": [
    "[str(k) + \": \" + str(policy[k[0]]) for k,v in N.items() if v > 0]"
   ]
  },
  {
   "cell_type": "code",
   "execution_count": 29,
   "metadata": {},
   "outputs": [
    {
     "data": {
      "image/png": "[encoded data removed]",
      "text/plain": [
       "<Figure size 648x504 with 1 Axes>"
      ]
     },
     "metadata": {
      "needs_background": "light"
     },
     "output_type": "display_data"
    }
   ],
   "source": [
    "states, actions, rewards = generate_episode(policy)\n",
    "plot_trajectory(states)"
   ]
  },
  {
   "cell_type": "code",
   "execution_count": 30,
   "metadata": {},
   "outputs": [
    {
     "data": {
      "text/plain": [
       "{((3, 1, 0, 0), (0, 1)): 0,\n",
       " ((3, 1, 0, 0), (1, 0)): 0,\n",
       " ((3, 1, 0, 0), (1, 1)): 0,\n",
       " ((3, 1, 0, 1), (0, 0)): -3.318865740740737,\n",
       " ((3, 1, 0, 1), (0, 1)): -3.4565345949142485,\n",
       " ((3, 1, 0, 1), (1, -1)): 0.0,\n",
       " ((3, 1, 0, 1), (1, 0)): -3.4706208425720595,\n",
       " ((3, 1, 0, 1), (1, 1)): -3.457465794170144,\n",
       " ((3, 1, 0, 2), (0, -1)): 0,\n",
       " ((3, 1, 0, 2), (0, 0)): 0,\n",
       " ((3, 1, 0, 2), (0, 1)): 0,\n",
       " ((3, 1, 0, 2), (1, -1)): 0,\n",
       " ((3, 1, 0, 2), (1, 0)): 0,\n",
       " ((3, 1, 0, 2), (1, 1)): 0,\n",
       " ((3, 1, 0, 3), (0, -1)): 0,\n",
       " ((3, 1, 0, 3), (0, 0)): 0,\n",
       " ((3, 1, 0, 3), (0, 1)): 0,\n",
       " ((3, 1, 0, 3), (1, -1)): 0,\n",
       " ((3, 1, 0, 3), (1, 0)): 0,\n",
       " ((3, 1, 0, 3), (1, 1)): 0,\n",
       " ((3, 1, 0, 4), (0, -1)): 0,\n",
       " ((3, 1, 0, 4), (0, 0)): 0,\n",
       " ((3, 1, 0, 4), (0, 1)): 0,\n",
       " ((3, 1, 0, 4), (1, -1)): 0,\n",
       " ((3, 1, 0, 4), (1, 0)): 0,\n",
       " ((3, 1, 0, 4), (1, 1)): 0,\n",
       " ((3, 1, 0, 5), (0, -1)): 0,\n",
       " ((3, 1, 0, 5), (0, 0)): 0,\n",
       " ((3, 1, 0, 5), (1, -1)): 0,\n",
       " ((3, 1, 0, 5), (1, 0)): 0,\n",
       " ((3, 1, 1, 0), (-1, 1)): 0,\n",
       " ((3, 1, 1, 0), (0, 0)): 0,\n",
       " ((3, 1, 1, 0), (0, 1)): 0,\n",
       " ((3, 1, 1, 0), (1, 0)): 0,\n",
       " ((3, 1, 1, 0), (1, 1)): 0,\n",
       " ((3, 1, 1, 1), (-1, 0)): 0,\n",
       " ((3, 1, 1, 1), (-1, 1)): 0,\n",
       " ((3, 1, 1, 1), (0, -1)): 0,\n",
       " ((3, 1, 1, 1), (0, 0)): 0,\n",
       " ((3, 1, 1, 1), (0, 1)): 0,\n",
       " ((3, 1, 1, 1), (1, -1)): 0,\n",
       " ((3, 1, 1, 1), (1, 0)): 0,\n",
       " ((3, 1, 1, 1), (1, 1)): 0,\n",
       " ((3, 1, 1, 2), (-1, -1)): 0,\n",
       " ((3, 1, 1, 2), (-1, 0)): 0,\n",
       " ((3, 1, 1, 2), (-1, 1)): 0,\n",
       " ((3, 1, 1, 2), (0, -1)): 0,\n",
       " ((3, 1, 1, 2), (0, 0)): 0,\n",
       " ((3, 1, 1, 2), (0, 1)): 0,\n",
       " ((3, 1, 1, 2), (1, -1)): 0,\n",
       " ((3, 1, 1, 2), (1, 0)): 0,\n",
       " ((3, 1, 1, 2), (1, 1)): 0,\n",
       " ((3, 1, 1, 3), (-1, -1)): 0,\n",
       " ((3, 1, 1, 3), (-1, 0)): 0,\n",
       " ((3, 1, 1, 3), (-1, 1)): 0,\n",
       " ((3, 1, 1, 3), (0, -1)): 0,\n",
       " ((3, 1, 1, 3), (0, 0)): 0,\n",
       " ((3, 1, 1, 3), (0, 1)): 0,\n",
       " ((3, 1, 1, 3), (1, -1)): 0,\n",
       " ((3, 1, 1, 3), (1, 0)): 0,\n",
       " ((3, 1, 1, 3), (1, 1)): 0,\n",
       " ((3, 1, 1, 4), (-1, -1)): 0,\n",
       " ((3, 1, 1, 4), (-1, 0)): 0,\n",
       " ((3, 1, 1, 4), (-1, 1)): 0,\n",
       " ((3, 1, 1, 4), (0, -1)): 0,\n",
       " ((3, 1, 1, 4), (0, 0)): 0,\n",
       " ((3, 1, 1, 4), (0, 1)): 0,\n",
       " ((3, 1, 1, 4), (1, -1)): 0,\n",
       " ((3, 1, 1, 4), (1, 0)): 0,\n",
       " ((3, 1, 1, 4), (1, 1)): 0,\n",
       " ((3, 1, 1, 5), (-1, -1)): 0,\n",
       " ((3, 1, 1, 5), (-1, 0)): 0,\n",
       " ((3, 1, 1, 5), (0, -1)): 0,\n",
       " ((3, 1, 1, 5), (0, 0)): 0,\n",
       " ((3, 1, 1, 5), (1, -1)): 0,\n",
       " ((3, 1, 1, 5), (1, 0)): 0,\n",
       " ((3, 1, 2, 0), (-1, 0)): 0,\n",
       " ((3, 1, 2, 0), (-1, 1)): 0,\n",
       " ((3, 1, 2, 0), (0, 0)): 0,\n",
       " ((3, 1, 2, 0), (0, 1)): 0,\n",
       " ((3, 1, 2, 0), (1, 0)): 0,\n",
       " ((3, 1, 2, 0), (1, 1)): 0,\n",
       " ((3, 1, 2, 1), (-1, -1)): 0,\n",
       " ((3, 1, 2, 1), (-1, 0)): 0,\n",
       " ((3, 1, 2, 1), (-1, 1)): 0,\n",
       " ((3, 1, 2, 1), (0, -1)): 0,\n",
       " ((3, 1, 2, 1), (0, 0)): 0,\n",
       " ((3, 1, 2, 1), (0, 1)): 0,\n",
       " ((3, 1, 2, 1), (1, -1)): 0,\n",
       " ((3, 1, 2, 1), (1, 0)): 0,\n",
       " ((3, 1, 2, 1), (1, 1)): 0,\n",
       " ((3, 1, 2, 2), (-1, -1)): 0,\n",
       " ((3, 1, 2, 2), (-1, 0)): 0,\n",
       " ((3, 1, 2, 2), (-1, 1)): 0,\n",
       " ((3, 1, 2, 2), (0, -1)): 0,\n",
       " ((3, 1, 2, 2), (0, 0)): 0,\n",
       " ((3, 1, 2, 2), (0, 1)): 0,\n",
       " ((3, 1, 2, 2), (1, -1)): 0,\n",
       " ((3, 1, 2, 2), (1, 0)): 0,\n",
       " ((3, 1, 2, 2), (1, 1)): 0,\n",
       " ((3, 1, 2, 3), (-1, -1)): 0,\n",
       " ((3, 1, 2, 3), (-1, 0)): 0,\n",
       " ((3, 1, 2, 3), (-1, 1)): 0,\n",
       " ((3, 1, 2, 3), (0, -1)): 0,\n",
       " ((3, 1, 2, 3), (0, 0)): 0,\n",
       " ((3, 1, 2, 3), (0, 1)): 0,\n",
       " ((3, 1, 2, 3), (1, -1)): 0,\n",
       " ((3, 1, 2, 3), (1, 0)): 0,\n",
       " ((3, 1, 2, 3), (1, 1)): 0,\n",
       " ((3, 1, 2, 4), (-1, -1)): 0,\n",
       " ((3, 1, 2, 4), (-1, 0)): 0,\n",
       " ((3, 1, 2, 4), (-1, 1)): 0,\n",
       " ((3, 1, 2, 4), (0, -1)): 0,\n",
       " ((3, 1, 2, 4), (0, 0)): 0,\n",
       " ((3, 1, 2, 4), (0, 1)): 0,\n",
       " ((3, 1, 2, 4), (1, -1)): 0,\n",
       " ((3, 1, 2, 4), (1, 0)): 0,\n",
       " ((3, 1, 2, 4), (1, 1)): 0,\n",
       " ((3, 1, 2, 5), (-1, -1)): 0,\n",
       " ((3, 1, 2, 5), (-1, 0)): 0,\n",
       " ((3, 1, 2, 5), (0, -1)): 0,\n",
       " ((3, 1, 2, 5), (0, 0)): 0,\n",
       " ((3, 1, 2, 5), (1, -1)): 0,\n",
       " ((3, 1, 2, 5), (1, 0)): 0,\n",
       " ((3, 1, 3, 0), (-1, 0)): 0,\n",
       " ((3, 1, 3, 0), (-1, 1)): 0,\n",
       " ((3, 1, 3, 0), (0, 0)): 0,\n",
       " ((3, 1, 3, 0), (0, 1)): 0,\n",
       " ((3, 1, 3, 0), (1, 0)): 0,\n",
       " ((3, 1, 3, 0), (1, 1)): 0,\n",
       " ((3, 1, 3, 1), (-1, -1)): 0,\n",
       " ((3, 1, 3, 1), (-1, 0)): 0,\n",
       " ((3, 1, 3, 1), (-1, 1)): 0,\n",
       " ((3, 1, 3, 1), (0, -1)): 0,\n",
       " ((3, 1, 3, 1), (0, 0)): 0,\n",
       " ((3, 1, 3, 1), (0, 1)): 0,\n",
       " ((3, 1, 3, 1), (1, -1)): 0,\n",
       " ((3, 1, 3, 1), (1, 0)): 0,\n",
       " ((3, 1, 3, 1), (1, 1)): 0,\n",
       " ((3, 1, 3, 2), (-1, -1)): 0,\n",
       " ((3, 1, 3, 2), (-1, 0)): 0,\n",
       " ((3, 1, 3, 2), (-1, 1)): 0,\n",
       " ((3, 1, 3, 2), (0, -1)): 0,\n",
       " ((3, 1, 3, 2), (0, 0)): 0,\n",
       " ((3, 1, 3, 2), (0, 1)): 0,\n",
       " ((3, 1, 3, 2), (1, -1)): 0,\n",
       " ((3, 1, 3, 2), (1, 0)): 0,\n",
       " ((3, 1, 3, 2), (1, 1)): 0,\n",
       " ((3, 1, 3, 3), (-1, -1)): 0,\n",
       " ((3, 1, 3, 3), (-1, 0)): 0,\n",
       " ((3, 1, 3, 3), (-1, 1)): 0,\n",
       " ((3, 1, 3, 3), (0, -1)): 0,\n",
       " ((3, 1, 3, 3), (0, 0)): 0,\n",
       " ((3, 1, 3, 3), (0, 1)): 0,\n",
       " ((3, 1, 3, 3), (1, -1)): 0,\n",
       " ((3, 1, 3, 3), (1, 0)): 0,\n",
       " ((3, 1, 3, 3), (1, 1)): 0,\n",
       " ((3, 1, 3, 4), (-1, -1)): 0,\n",
       " ((3, 1, 3, 4), (-1, 0)): 0,\n",
       " ((3, 1, 3, 4), (-1, 1)): 0,\n",
       " ((3, 1, 3, 4), (0, -1)): 0,\n",
       " ((3, 1, 3, 4), (0, 0)): 0,\n",
       " ((3, 1, 3, 4), (0, 1)): 0,\n",
       " ((3, 1, 3, 4), (1, -1)): 0,\n",
       " ((3, 1, 3, 4), (1, 0)): 0,\n",
       " ((3, 1, 3, 4), (1, 1)): 0,\n",
       " ((3, 1, 3, 5), (-1, -1)): 0,\n",
       " ((3, 1, 3, 5), (-1, 0)): 0,\n",
       " ((3, 1, 3, 5), (0, -1)): 0,\n",
       " ((3, 1, 3, 5), (0, 0)): 0,\n",
       " ((3, 1, 3, 5), (1, -1)): 0,\n",
       " ((3, 1, 3, 5), (1, 0)): 0,\n",
       " ((3, 1, 4, 0), (-1, 0)): 0,\n",
       " ((3, 1, 4, 0), (-1, 1)): 0,\n",
       " ((3, 1, 4, 0), (0, 0)): 0,\n",
       " ((3, 1, 4, 0), (0, 1)): 0,\n",
       " ((3, 1, 4, 0), (1, 0)): 0,\n",
       " ((3, 1, 4, 0), (1, 1)): 0,\n",
       " ((3, 1, 4, 1), (-1, -1)): 0,\n",
       " ((3, 1, 4, 1), (-1, 0)): 0,\n",
       " ((3, 1, 4, 1), (-1, 1)): 0,\n",
       " ((3, 1, 4, 1), (0, -1)): 0,\n",
       " ((3, 1, 4, 1), (0, 0)): 0,\n",
       " ((3, 1, 4, 1), (0, 1)): 0,\n",
       " ((3, 1, 4, 1), (1, -1)): 0,\n",
       " ((3, 1, 4, 1), (1, 0)): 0,\n",
       " ((3, 1, 4, 1), (1, 1)): 0,\n",
       " ((3, 1, 4, 2), (-1, -1)): 0,\n",
       " ((3, 1, 4, 2), (-1, 0)): 0,\n",
       " ((3, 1, 4, 2), (-1, 1)): 0,\n",
       " ((3, 1, 4, 2), (0, -1)): 0,\n",
       " ((3, 1, 4, 2), (0, 0)): 0,\n",
       " ((3, 1, 4, 2), (0, 1)): 0,\n",
       " ((3, 1, 4, 2), (1, -1)): 0,\n",
       " ((3, 1, 4, 2), (1, 0)): 0,\n",
       " ((3, 1, 4, 2), (1, 1)): 0,\n",
       " ((3, 1, 4, 3), (-1, -1)): 0,\n",
       " ((3, 1, 4, 3), (-1, 0)): 0,\n",
       " ((3, 1, 4, 3), (-1, 1)): 0,\n",
       " ((3, 1, 4, 3), (0, -1)): 0,\n",
       " ((3, 1, 4, 3), (0, 0)): 0,\n",
       " ((3, 1, 4, 3), (0, 1)): 0,\n",
       " ((3, 1, 4, 3), (1, -1)): 0,\n",
       " ((3, 1, 4, 3), (1, 0)): 0,\n",
       " ((3, 1, 4, 3), (1, 1)): 0,\n",
       " ((3, 1, 4, 4), (-1, -1)): 0,\n",
       " ((3, 1, 4, 4), (-1, 0)): 0,\n",
       " ((3, 1, 4, 4), (-1, 1)): 0,\n",
       " ((3, 1, 4, 4), (0, -1)): 0,\n",
       " ((3, 1, 4, 4), (0, 0)): 0,\n",
       " ((3, 1, 4, 4), (0, 1)): 0,\n",
       " ((3, 1, 4, 4), (1, -1)): 0,\n",
       " ((3, 1, 4, 4), (1, 0)): 0,\n",
       " ((3, 1, 4, 4), (1, 1)): 0,\n",
       " ((3, 1, 4, 5), (-1, -1)): 0,\n",
       " ((3, 1, 4, 5), (-1, 0)): 0,\n",
       " ((3, 1, 4, 5), (0, -1)): 0,\n",
       " ((3, 1, 4, 5), (0, 0)): 0,\n",
       " ((3, 1, 4, 5), (1, -1)): 0,\n",
       " ((3, 1, 4, 5), (1, 0)): 0,\n",
       " ((3, 1, 5, 0), (-1, 0)): 0,\n",
       " ((3, 1, 5, 0), (-1, 1)): 0,\n",
       " ((3, 1, 5, 0), (0, 0)): 0,\n",
       " ((3, 1, 5, 0), (0, 1)): 0,\n",
       " ((3, 1, 5, 1), (-1, -1)): 0,\n",
       " ((3, 1, 5, 1), (-1, 0)): 0,\n",
       " ((3, 1, 5, 1), (-1, 1)): 0,\n",
       " ((3, 1, 5, 1), (0, -1)): 0,\n",
       " ((3, 1, 5, 1), (0, 0)): 0,\n",
       " ((3, 1, 5, 1), (0, 1)): 0,\n",
       " ((3, 1, 5, 2), (-1, -1)): 0,\n",
       " ((3, 1, 5, 2), (-1, 0)): 0,\n",
       " ((3, 1, 5, 2), (-1, 1)): 0,\n",
       " ((3, 1, 5, 2), (0, -1)): 0,\n",
       " ((3, 1, 5, 2), (0, 0)): 0,\n",
       " ((3, 1, 5, 2), (0, 1)): 0,\n",
       " ((3, 1, 5, 3), (-1, -1)): 0,\n",
       " ((3, 1, 5, 3), (-1, 0)): 0,\n",
       " ((3, 1, 5, 3), (-1, 1)): 0,\n",
       " ((3, 1, 5, 3), (0, -1)): 0,\n",
       " ((3, 1, 5, 3), (0, 0)): 0,\n",
       " ((3, 1, 5, 3), (0, 1)): 0,\n",
       " ((3, 1, 5, 4), (-1, -1)): 0,\n",
       " ((3, 1, 5, 4), (-1, 0)): 0,\n",
       " ((3, 1, 5, 4), (-1, 1)): 0,\n",
       " ((3, 1, 5, 4), (0, -1)): 0,\n",
       " ((3, 1, 5, 4), (0, 0)): 0,\n",
       " ((3, 1, 5, 4), (0, 1)): 0,\n",
       " ((3, 1, 5, 5), (-1, -1)): 0,\n",
       " ((3, 1, 5, 5), (-1, 0)): 0,\n",
       " ((3, 1, 5, 5), (0, -1)): 0,\n",
       " ((3, 1, 5, 5), (0, 0)): 0,\n",
       " ((3, 0, 0, 0), (0, 1)): -3.748112001858945,\n",
       " ((3, 0, 0, 0), (1, 0)): -3.490481135340945,\n",
       " ((3, 0, 0, 0), (1, 1)): 0.0,\n",
       " ((3, 0, 0, 1), (0, 0)): 0,\n",
       " ((3, 0, 0, 1), (0, 1)): 0,\n",
       " ((3, 0, 0, 1), (1, -1)): 0,\n",
       " ((3, 0, 0, 1), (1, 0)): 0,\n",
       " ((3, 0, 0, 1), (1, 1)): 0,\n",
       " ((3, 0, 0, 2), (0, -1)): 0,\n",
       " ((3, 0, 0, 2), (0, 0)): 0,\n",
       " ((3, 0, 0, 2), (0, 1)): 0,\n",
       " ((3, 0, 0, 2), (1, -1)): 0,\n",
       " ((3, 0, 0, 2), (1, 0)): 0,\n",
       " ((3, 0, 0, 2), (1, 1)): 0,\n",
       " ((3, 0, 0, 3), (0, -1)): 0,\n",
       " ((3, 0, 0, 3), (0, 0)): 0,\n",
       " ((3, 0, 0, 3), (0, 1)): 0,\n",
       " ((3, 0, 0, 3), (1, -1)): 0,\n",
       " ((3, 0, 0, 3), (1, 0)): 0,\n",
       " ((3, 0, 0, 3), (1, 1)): 0,\n",
       " ((3, 0, 0, 4), (0, -1)): 0,\n",
       " ((3, 0, 0, 4), (0, 0)): 0,\n",
       " ((3, 0, 0, 4), (0, 1)): 0,\n",
       " ((3, 0, 0, 4), (1, -1)): 0,\n",
       " ((3, 0, 0, 4), (1, 0)): 0,\n",
       " ((3, 0, 0, 4), (1, 1)): 0,\n",
       " ((3, 0, 0, 5), (0, -1)): 0,\n",
       " ((3, 0, 0, 5), (0, 0)): 0,\n",
       " ((3, 0, 0, 5), (1, -1)): 0,\n",
       " ((3, 0, 0, 5), (1, 0)): 0,\n",
       " ((3, 0, 1, 0), (-1, 1)): 0,\n",
       " ((3, 0, 1, 0), (0, 0)): 0,\n",
       " ((3, 0, 1, 0), (0, 1)): 0,\n",
       " ((3, 0, 1, 0), (1, 0)): 0,\n",
       " ((3, 0, 1, 0), (1, 1)): 0,\n",
       " ((3, 0, 1, 1), (-1, 0)): 0,\n",
       " ((3, 0, 1, 1), (-1, 1)): 0,\n",
       " ((3, 0, 1, 1), (0, -1)): 0,\n",
       " ((3, 0, 1, 1), (0, 0)): 0,\n",
       " ((3, 0, 1, 1), (0, 1)): 0,\n",
       " ((3, 0, 1, 1), (1, -1)): 0,\n",
       " ((3, 0, 1, 1), (1, 0)): 0,\n",
       " ((3, 0, 1, 1), (1, 1)): 0,\n",
       " ((3, 0, 1, 2), (-1, -1)): 0,\n",
       " ((3, 0, 1, 2), (-1, 0)): 0,\n",
       " ((3, 0, 1, 2), (-1, 1)): 0,\n",
       " ((3, 0, 1, 2), (0, -1)): 0,\n",
       " ((3, 0, 1, 2), (0, 0)): 0,\n",
       " ((3, 0, 1, 2), (0, 1)): 0,\n",
       " ((3, 0, 1, 2), (1, -1)): 0,\n",
       " ((3, 0, 1, 2), (1, 0)): 0,\n",
       " ((3, 0, 1, 2), (1, 1)): 0,\n",
       " ((3, 0, 1, 3), (-1, -1)): 0,\n",
       " ((3, 0, 1, 3), (-1, 0)): 0,\n",
       " ((3, 0, 1, 3), (-1, 1)): 0,\n",
       " ((3, 0, 1, 3), (0, -1)): 0,\n",
       " ((3, 0, 1, 3), (0, 0)): 0,\n",
       " ((3, 0, 1, 3), (0, 1)): 0,\n",
       " ((3, 0, 1, 3), (1, -1)): 0,\n",
       " ((3, 0, 1, 3), (1, 0)): 0,\n",
       " ((3, 0, 1, 3), (1, 1)): 0,\n",
       " ((3, 0, 1, 4), (-1, -1)): 0,\n",
       " ((3, 0, 1, 4), (-1, 0)): 0,\n",
       " ((3, 0, 1, 4), (-1, 1)): 0,\n",
       " ((3, 0, 1, 4), (0, -1)): 0,\n",
       " ((3, 0, 1, 4), (0, 0)): 0,\n",
       " ((3, 0, 1, 4), (0, 1)): 0,\n",
       " ((3, 0, 1, 4), (1, -1)): 0,\n",
       " ((3, 0, 1, 4), (1, 0)): 0,\n",
       " ((3, 0, 1, 4), (1, 1)): 0,\n",
       " ((3, 0, 1, 5), (-1, -1)): 0,\n",
       " ((3, 0, 1, 5), (-1, 0)): 0,\n",
       " ((3, 0, 1, 5), (0, -1)): 0,\n",
       " ((3, 0, 1, 5), (0, 0)): 0,\n",
       " ((3, 0, 1, 5), (1, -1)): 0,\n",
       " ((3, 0, 1, 5), (1, 0)): 0,\n",
       " ((3, 0, 2, 0), (-1, 0)): 0,\n",
       " ((3, 0, 2, 0), (-1, 1)): 0,\n",
       " ((3, 0, 2, 0), (0, 0)): 0,\n",
       " ((3, 0, 2, 0), (0, 1)): 0,\n",
       " ((3, 0, 2, 0), (1, 0)): 0,\n",
       " ((3, 0, 2, 0), (1, 1)): 0,\n",
       " ((3, 0, 2, 1), (-1, -1)): 0,\n",
       " ((3, 0, 2, 1), (-1, 0)): 0,\n",
       " ((3, 0, 2, 1), (-1, 1)): 0,\n",
       " ((3, 0, 2, 1), (0, -1)): 0,\n",
       " ((3, 0, 2, 1), (0, 0)): 0,\n",
       " ((3, 0, 2, 1), (0, 1)): 0,\n",
       " ((3, 0, 2, 1), (1, -1)): 0,\n",
       " ((3, 0, 2, 1), (1, 0)): 0,\n",
       " ((3, 0, 2, 1), (1, 1)): 0,\n",
       " ((3, 0, 2, 2), (-1, -1)): 0,\n",
       " ((3, 0, 2, 2), (-1, 0)): 0,\n",
       " ((3, 0, 2, 2), (-1, 1)): 0,\n",
       " ((3, 0, 2, 2), (0, -1)): 0,\n",
       " ((3, 0, 2, 2), (0, 0)): 0,\n",
       " ((3, 0, 2, 2), (0, 1)): 0,\n",
       " ((3, 0, 2, 2), (1, -1)): 0,\n",
       " ((3, 0, 2, 2), (1, 0)): 0,\n",
       " ((3, 0, 2, 2), (1, 1)): 0,\n",
       " ((3, 0, 2, 3), (-1, -1)): 0,\n",
       " ((3, 0, 2, 3), (-1, 0)): 0,\n",
       " ((3, 0, 2, 3), (-1, 1)): 0,\n",
       " ((3, 0, 2, 3), (0, -1)): 0,\n",
       " ((3, 0, 2, 3), (0, 0)): 0,\n",
       " ((3, 0, 2, 3), (0, 1)): 0,\n",
       " ((3, 0, 2, 3), (1, -1)): 0,\n",
       " ((3, 0, 2, 3), (1, 0)): 0,\n",
       " ((3, 0, 2, 3), (1, 1)): 0,\n",
       " ((3, 0, 2, 4), (-1, -1)): 0,\n",
       " ((3, 0, 2, 4), (-1, 0)): 0,\n",
       " ((3, 0, 2, 4), (-1, 1)): 0,\n",
       " ((3, 0, 2, 4), (0, -1)): 0,\n",
       " ((3, 0, 2, 4), (0, 0)): 0,\n",
       " ((3, 0, 2, 4), (0, 1)): 0,\n",
       " ((3, 0, 2, 4), (1, -1)): 0,\n",
       " ((3, 0, 2, 4), (1, 0)): 0,\n",
       " ((3, 0, 2, 4), (1, 1)): 0,\n",
       " ((3, 0, 2, 5), (-1, -1)): 0,\n",
       " ((3, 0, 2, 5), (-1, 0)): 0,\n",
       " ((3, 0, 2, 5), (0, -1)): 0,\n",
       " ((3, 0, 2, 5), (0, 0)): 0,\n",
       " ((3, 0, 2, 5), (1, -1)): 0,\n",
       " ((3, 0, 2, 5), (1, 0)): 0,\n",
       " ((3, 0, 3, 0), (-1, 0)): 0,\n",
       " ((3, 0, 3, 0), (-1, 1)): 0,\n",
       " ((3, 0, 3, 0), (0, 0)): 0,\n",
       " ((3, 0, 3, 0), (0, 1)): 0,\n",
       " ((3, 0, 3, 0), (1, 0)): 0,\n",
       " ((3, 0, 3, 0), (1, 1)): 0,\n",
       " ((3, 0, 3, 1), (-1, -1)): 0,\n",
       " ((3, 0, 3, 1), (-1, 0)): 0,\n",
       " ((3, 0, 3, 1), (-1, 1)): 0,\n",
       " ((3, 0, 3, 1), (0, -1)): 0,\n",
       " ((3, 0, 3, 1), (0, 0)): 0,\n",
       " ((3, 0, 3, 1), (0, 1)): 0,\n",
       " ((3, 0, 3, 1), (1, -1)): 0,\n",
       " ((3, 0, 3, 1), (1, 0)): 0,\n",
       " ((3, 0, 3, 1), (1, 1)): 0,\n",
       " ((3, 0, 3, 2), (-1, -1)): 0,\n",
       " ((3, 0, 3, 2), (-1, 0)): 0,\n",
       " ((3, 0, 3, 2), (-1, 1)): 0,\n",
       " ((3, 0, 3, 2), (0, -1)): 0,\n",
       " ((3, 0, 3, 2), (0, 0)): 0,\n",
       " ((3, 0, 3, 2), (0, 1)): 0,\n",
       " ((3, 0, 3, 2), (1, -1)): 0,\n",
       " ((3, 0, 3, 2), (1, 0)): 0,\n",
       " ((3, 0, 3, 2), (1, 1)): 0,\n",
       " ((3, 0, 3, 3), (-1, -1)): 0,\n",
       " ((3, 0, 3, 3), (-1, 0)): 0,\n",
       " ((3, 0, 3, 3), (-1, 1)): 0,\n",
       " ((3, 0, 3, 3), (0, -1)): 0,\n",
       " ((3, 0, 3, 3), (0, 0)): 0,\n",
       " ((3, 0, 3, 3), (0, 1)): 0,\n",
       " ((3, 0, 3, 3), (1, -1)): 0,\n",
       " ((3, 0, 3, 3), (1, 0)): 0,\n",
       " ((3, 0, 3, 3), (1, 1)): 0,\n",
       " ((3, 0, 3, 4), (-1, -1)): 0,\n",
       " ((3, 0, 3, 4), (-1, 0)): 0,\n",
       " ((3, 0, 3, 4), (-1, 1)): 0,\n",
       " ((3, 0, 3, 4), (0, -1)): 0,\n",
       " ((3, 0, 3, 4), (0, 0)): 0,\n",
       " ((3, 0, 3, 4), (0, 1)): 0,\n",
       " ((3, 0, 3, 4), (1, -1)): 0,\n",
       " ((3, 0, 3, 4), (1, 0)): 0,\n",
       " ((3, 0, 3, 4), (1, 1)): 0,\n",
       " ((3, 0, 3, 5), (-1, -1)): 0,\n",
       " ((3, 0, 3, 5), (-1, 0)): 0,\n",
       " ((3, 0, 3, 5), (0, -1)): 0,\n",
       " ((3, 0, 3, 5), (0, 0)): 0,\n",
       " ((3, 0, 3, 5), (1, -1)): 0,\n",
       " ((3, 0, 3, 5), (1, 0)): 0,\n",
       " ((3, 0, 4, 0), (-1, 0)): 0,\n",
       " ((3, 0, 4, 0), (-1, 1)): 0,\n",
       " ((3, 0, 4, 0), (0, 0)): 0,\n",
       " ((3, 0, 4, 0), (0, 1)): 0,\n",
       " ((3, 0, 4, 0), (1, 0)): 0,\n",
       " ((3, 0, 4, 0), (1, 1)): 0,\n",
       " ((3, 0, 4, 1), (-1, -1)): 0,\n",
       " ((3, 0, 4, 1), (-1, 0)): 0,\n",
       " ((3, 0, 4, 1), (-1, 1)): 0,\n",
       " ((3, 0, 4, 1), (0, -1)): 0,\n",
       " ((3, 0, 4, 1), (0, 0)): 0,\n",
       " ((3, 0, 4, 1), (0, 1)): 0,\n",
       " ((3, 0, 4, 1), (1, -1)): 0,\n",
       " ((3, 0, 4, 1), (1, 0)): 0,\n",
       " ((3, 0, 4, 1), (1, 1)): 0,\n",
       " ((3, 0, 4, 2), (-1, -1)): 0,\n",
       " ((3, 0, 4, 2), (-1, 0)): 0,\n",
       " ((3, 0, 4, 2), (-1, 1)): 0,\n",
       " ((3, 0, 4, 2), (0, -1)): 0,\n",
       " ((3, 0, 4, 2), (0, 0)): 0,\n",
       " ((3, 0, 4, 2), (0, 1)): 0,\n",
       " ((3, 0, 4, 2), (1, -1)): 0,\n",
       " ((3, 0, 4, 2), (1, 0)): 0,\n",
       " ((3, 0, 4, 2), (1, 1)): 0,\n",
       " ((3, 0, 4, 3), (-1, -1)): 0,\n",
       " ((3, 0, 4, 3), (-1, 0)): 0,\n",
       " ((3, 0, 4, 3), (-1, 1)): 0,\n",
       " ((3, 0, 4, 3), (0, -1)): 0,\n",
       " ((3, 0, 4, 3), (0, 0)): 0,\n",
       " ((3, 0, 4, 3), (0, 1)): 0,\n",
       " ((3, 0, 4, 3), (1, -1)): 0,\n",
       " ((3, 0, 4, 3), (1, 0)): 0,\n",
       " ((3, 0, 4, 3), (1, 1)): 0,\n",
       " ((3, 0, 4, 4), (-1, -1)): 0,\n",
       " ((3, 0, 4, 4), (-1, 0)): 0,\n",
       " ((3, 0, 4, 4), (-1, 1)): 0,\n",
       " ((3, 0, 4, 4), (0, -1)): 0,\n",
       " ((3, 0, 4, 4), (0, 0)): 0,\n",
       " ((3, 0, 4, 4), (0, 1)): 0,\n",
       " ((3, 0, 4, 4), (1, -1)): 0,\n",
       " ((3, 0, 4, 4), (1, 0)): 0,\n",
       " ((3, 0, 4, 4), (1, 1)): 0,\n",
       " ((3, 0, 4, 5), (-1, -1)): 0,\n",
       " ((3, 0, 4, 5), (-1, 0)): 0,\n",
       " ((3, 0, 4, 5), (0, -1)): 0,\n",
       " ((3, 0, 4, 5), (0, 0)): 0,\n",
       " ((3, 0, 4, 5), (1, -1)): 0,\n",
       " ((3, 0, 4, 5), (1, 0)): 0,\n",
       " ((3, 0, 5, 0), (-1, 0)): 0,\n",
       " ((3, 0, 5, 0), (-1, 1)): 0,\n",
       " ((3, 0, 5, 0), (0, 0)): 0,\n",
       " ((3, 0, 5, 0), (0, 1)): 0,\n",
       " ((3, 0, 5, 1), (-1, -1)): 0,\n",
       " ((3, 0, 5, 1), (-1, 0)): 0,\n",
       " ((3, 0, 5, 1), (-1, 1)): 0,\n",
       " ((3, 0, 5, 1), (0, -1)): 0,\n",
       " ((3, 0, 5, 1), (0, 0)): 0,\n",
       " ((3, 0, 5, 1), (0, 1)): 0,\n",
       " ((3, 0, 5, 2), (-1, -1)): 0,\n",
       " ((3, 0, 5, 2), (-1, 0)): 0,\n",
       " ((3, 0, 5, 2), (-1, 1)): 0,\n",
       " ((3, 0, 5, 2), (0, -1)): 0,\n",
       " ((3, 0, 5, 2), (0, 0)): 0,\n",
       " ((3, 0, 5, 2), (0, 1)): 0,\n",
       " ((3, 0, 5, 3), (-1, -1)): 0,\n",
       " ((3, 0, 5, 3), (-1, 0)): 0,\n",
       " ((3, 0, 5, 3), (-1, 1)): 0,\n",
       " ((3, 0, 5, 3), (0, -1)): 0,\n",
       " ((3, 0, 5, 3), (0, 0)): 0,\n",
       " ((3, 0, 5, 3), (0, 1)): 0,\n",
       " ((3, 0, 5, 4), (-1, -1)): 0,\n",
       " ((3, 0, 5, 4), (-1, 0)): 0,\n",
       " ((3, 0, 5, 4), (-1, 1)): 0,\n",
       " ((3, 0, 5, 4), (0, -1)): 0,\n",
       " ((3, 0, 5, 4), (0, 0)): 0,\n",
       " ((3, 0, 5, 4), (0, 1)): 0,\n",
       " ((3, 0, 5, 5), (-1, -1)): 0,\n",
       " ((3, 0, 5, 5), (-1, 0)): 0,\n",
       " ((3, 0, 5, 5), (0, -1)): 0,\n",
       " ((3, 0, 5, 5), (0, 0)): 0}"
      ]
     },
     "execution_count": 30,
     "metadata": {},
     "output_type": "execute_result"
    }
   ],
   "source": [
    "Q"
   ]
  },
  {
   "cell_type": "code",
   "execution_count": null,
   "metadata": {},
   "outputs": [],
   "source": []
  }
 ],
 "metadata": {
  "kernelspec": {
   "display_name": "Python 3.10.5 64-bit",
   "language": "python",
   "name": "python3"
  },
  "language_info": {
   "codemirror_mode": {
    "name": "ipython",
    "version": 3
   },
   "file_extension": ".py",
   "mimetype": "text/x-python",
   "name": "python",
   "nbconvert_exporter": "python",
   "pygments_lexer": "ipython3",
   "version": "3.10.5"
  },
  "orig_nbformat": 4,
  "vscode": {
   "interpreter": {
    "hash": "1f26179ee78db2aa81e6834ad6dc21cf32f3392ab3632a5346cf30ea04832c43"
   }
  }
 },
 "nbformat": 4,
 "nbformat_minor": 2
}
