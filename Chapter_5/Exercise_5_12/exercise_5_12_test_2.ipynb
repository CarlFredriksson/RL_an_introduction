{
 "cells": [
  {
   "cell_type": "code",
   "execution_count": 1,
   "metadata": {},
   "outputs": [],
   "source": [
    "import random\n",
    "random.seed(7)\n",
    "from exercise_5_12 import *"
   ]
  },
  {
   "cell_type": "code",
   "execution_count": 2,
   "metadata": {},
   "outputs": [
    {
     "data": {
      "image/png": "[encoded data removed]",
      "text/plain": [
       "<Figure size 360x360 with 1 Axes>"
      ]
     },
     "metadata": {
      "needs_background": "light"
     },
     "output_type": "display_data"
    }
   ],
   "source": [
    "starting_line, finishing_line, track = get_small_map()\n",
    "plot_map(starting_line, finishing_line, track, (6, 6), (5, 5))"
   ]
  },
  {
   "cell_type": "code",
   "execution_count": 3,
   "metadata": {},
   "outputs": [],
   "source": [
    "policy, b, Q, C = initialize_learning_off_pol(starting_line, track)"
   ]
  },
  {
   "cell_type": "code",
   "execution_count": 4,
   "metadata": {},
   "outputs": [
    {
     "data": {
      "text/plain": [
       "[(3, 0, 0, 0),\n",
       " (3, 0, 0, 0),\n",
       " (3, 1, 0, 1),\n",
       " (3, 0, 0, 0),\n",
       " (3, 1, 0, 1),\n",
       " (3, 2, 0, 1)]"
      ]
     },
     "execution_count": 4,
     "metadata": {},
     "output_type": "execute_result"
    }
   ],
   "source": [
    "states = []\n",
    "actions = []\n",
    "rewards = []\n",
    "states, actions, rewards = generate_episode(starting_line, finishing_line, track, b, noise=0.0)\n",
    "states"
   ]
  },
  {
   "cell_type": "code",
   "execution_count": 5,
   "metadata": {},
   "outputs": [
    {
     "data": {
      "text/plain": [
       "[(1, 1), (0, 1), (0, 1), (0, 1), (0, 0), (1, -1)]"
      ]
     },
     "execution_count": 5,
     "metadata": {},
     "output_type": "execute_result"
    }
   ],
   "source": [
    "actions"
   ]
  },
  {
   "cell_type": "code",
   "execution_count": 6,
   "metadata": {},
   "outputs": [
    {
     "data": {
      "text/plain": [
       "[-1, -1, -1, -1, -1, 0]"
      ]
     },
     "execution_count": 6,
     "metadata": {},
     "output_type": "execute_result"
    }
   ],
   "source": [
    "rewards"
   ]
  },
  {
   "cell_type": "code",
   "execution_count": 14,
   "metadata": {},
   "outputs": [],
   "source": [
    "policy, b, Q, C = initialize_learning_off_pol(starting_line, track)\n",
    "states = [(3, 0, 0, 0), (3, 1, 0, 1), (3, 2, 0, 1)]\n",
    "actions = [(0, 1), (0, 0), (1, -1)]\n",
    "rewards = [-1, -1, 0]"
   ]
  },
  {
   "cell_type": "code",
   "execution_count": 15,
   "metadata": {},
   "outputs": [
    {
     "data": {
      "image/png": "[encoded data removed]",
      "text/plain": [
       "<Figure size 360x360 with 1 Axes>"
      ]
     },
     "metadata": {
      "needs_background": "light"
     },
     "output_type": "display_data"
    }
   ],
   "source": [
    "plot_trajectory(starting_line, finishing_line, track, (6, 6), (5, 5), states)"
   ]
  },
  {
   "cell_type": "code",
   "execution_count": 16,
   "metadata": {},
   "outputs": [
    {
     "data": {
      "text/plain": [
       "{(0, 0): 1.0, (0, 1): 0.0, (1, -1): 0.0, (1, 0): 0.0, (1, 1): 0.0}"
      ]
     },
     "execution_count": 16,
     "metadata": {},
     "output_type": "execute_result"
    }
   ],
   "source": [
    "policy[(3, 2, 0, 1)]"
   ]
  },
  {
   "cell_type": "code",
   "execution_count": 17,
   "metadata": {},
   "outputs": [
    {
     "name": "stdout",
     "output_type": "stream",
     "text": [
      "2\n",
      "1\n"
     ]
    }
   ],
   "source": [
    "G = 0\n",
    "W = 1\n",
    "for t in range(len(states) - 1, -1, -1):\n",
    "    print(t)\n",
    "    s = states[t]\n",
    "    a = actions[t]\n",
    "    G = 1 * G + rewards[t]\n",
    "    C[(s, a)] += W\n",
    "    Q[(s, a)] += (W / C[(s, a)]) * (G - Q[(s, a)])\n",
    "    \n",
    "    # Argmax over a, break ties by favoring the last selected action by b,\n",
    "    # then by the deterministic ordering of get_greedy_action.\n",
    "    # If not \"favoring the last selected action by b\", and simply relying on\n",
    "    # the ordering of get_greedy_action, the algorithm can easily get stuck,\n",
    "    # even though get_greedy_action provides consistent ordering.\n",
    "    greedy_action = get_greedy_action(Q, s)\n",
    "    if Q[(s, a)] == Q[(s, greedy_action)]:\n",
    "        policy[s] = get_eps_greedy_probabilities(s, a)\n",
    "    else:\n",
    "        policy[s] = get_eps_greedy_probabilities(s, greedy_action)\n",
    "\n",
    "    # Break if pi(s) != a\n",
    "    if list(policy[s].keys())[list(policy[s].values()).index(1)] != a:\n",
    "        break\n",
    "    W = W * (1 / b[s][a])"
   ]
  },
  {
   "cell_type": "code",
   "execution_count": null,
   "metadata": {},
   "outputs": [],
   "source": []
  },
  {
   "cell_type": "code",
   "execution_count": null,
   "metadata": {},
   "outputs": [],
   "source": []
  }
 ],
 "metadata": {
  "kernelspec": {
   "display_name": "Python 3.10.5 64-bit",
   "language": "python",
   "name": "python3"
  },
  "language_info": {
   "codemirror_mode": {
    "name": "ipython",
    "version": 3
   },
   "file_extension": ".py",
   "mimetype": "text/x-python",
   "name": "python",
   "nbconvert_exporter": "python",
   "pygments_lexer": "ipython3",
   "version": "3.10.5"
  },
  "orig_nbformat": 4,
  "vscode": {
   "interpreter": {
    "hash": "1f26179ee78db2aa81e6834ad6dc21cf32f3392ab3632a5346cf30ea04832c43"
   }
  }
 },
 "nbformat": 4,
 "nbformat_minor": 2
}
