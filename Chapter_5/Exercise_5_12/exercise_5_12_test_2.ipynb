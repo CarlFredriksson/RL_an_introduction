{
 "cells": [
  {
   "cell_type": "code",
   "execution_count": 1,
   "metadata": {},
   "outputs": [],
   "source": [
    "import random\n",
    "random.seed(7)\n",
    "from exercise_5_12 import *"
   ]
  },
  {
   "cell_type": "code",
   "execution_count": 2,
   "metadata": {},
   "outputs": [
    {
     "data": {
      "image/png": "[encoded data removed]",
      "text/plain": [
       "<Figure size 360x360 with 1 Axes>"
      ]
     },
     "metadata": {
      "needs_background": "light"
     },
     "output_type": "display_data"
    }
   ],
   "source": [
    "starting_line, finishing_line, track = get_small_map()\n",
    "plot_map(starting_line, finishing_line, track, (6, 6), (5, 5))"
   ]
  },
  {
   "cell_type": "code",
   "execution_count": 3,
   "metadata": {},
   "outputs": [],
   "source": [
    "policy, b, Q, C = initialize_learning_off_pol(starting_line, track)"
   ]
  },
  {
   "cell_type": "code",
   "execution_count": 9,
   "metadata": {},
   "outputs": [
    {
     "data": {
      "text/plain": [
       "[(3, 0, 0, 0),\n",
       " (3, 1, 0, 1),\n",
       " (3, 0, 0, 0),\n",
       " (3, 1, 0, 1),\n",
       " (3, 0, 0, 0),\n",
       " (3, 1, 0, 1),\n",
       " (3, 0, 0, 0),\n",
       " (3, 0, 0, 0),\n",
       " (3, 1, 0, 1),\n",
       " (3, 0, 0, 0),\n",
       " (3, 0, 0, 0),\n",
       " (3, 1, 0, 1),\n",
       " (3, 0, 0, 0),\n",
       " (3, 0, 0, 0)]"
      ]
     },
     "execution_count": 9,
     "metadata": {},
     "output_type": "execute_result"
    }
   ],
   "source": [
    "states = []\n",
    "actions = []\n",
    "rewards = []\n",
    "states, actions, rewards = generate_episode(starting_line, finishing_line, track, b, noise=0.0)\n",
    "states"
   ]
  },
  {
   "cell_type": "code",
   "execution_count": 10,
   "metadata": {},
   "outputs": [
    {
     "data": {
      "text/plain": [
       "[(0, 1),\n",
       " (0, 1),\n",
       " (0, 1),\n",
       " (0, 0),\n",
       " (0, 1),\n",
       " (1, 1),\n",
       " (1, 0),\n",
       " (0, 1),\n",
       " (0, 1),\n",
       " (1, 0),\n",
       " (0, 1),\n",
       " (0, 0),\n",
       " (1, 0),\n",
       " (1, 1)]"
      ]
     },
     "execution_count": 10,
     "metadata": {},
     "output_type": "execute_result"
    }
   ],
   "source": [
    "actions"
   ]
  },
  {
   "cell_type": "code",
   "execution_count": 11,
   "metadata": {},
   "outputs": [
    {
     "data": {
      "text/plain": [
       "[-1, -1, -1, -1, -1, -1, -1, -1, -1, -1, -1, -1, -1, 0]"
      ]
     },
     "execution_count": 11,
     "metadata": {},
     "output_type": "execute_result"
    }
   ],
   "source": [
    "rewards"
   ]
  },
  {
   "cell_type": "code",
   "execution_count": 13,
   "metadata": {},
   "outputs": [],
   "source": [
    "policy, b, Q, C = initialize_learning_off_pol(starting_line, track)\n",
    "states = [(3, 0, 0, 0), (3, 1, 0, 1)]\n",
    "actions = [(0, 1), (1, -1)]\n",
    "rewards = [-1, 0]"
   ]
  },
  {
   "cell_type": "code",
   "execution_count": 14,
   "metadata": {},
   "outputs": [
    {
     "name": "stdout",
     "output_type": "stream",
     "text": [
      "s a: (3, 1, 0, 1) (1, -1)\n",
      "Q[(s, a)]: 0.0\n",
      "{(0, 0): 1.0, (0, 1): 0.0, (1, -1): 0.0, (1, 0): 0.0, (1, 1): 0.0}\n",
      "{(0, 0): 1.0, (0, 1): 0.0, (1, -1): 0.0, (1, 0): 0.0, (1, 1): 0.0}\n",
      "break\n",
      "--------------------\n"
     ]
    }
   ],
   "source": [
    "G = 0\n",
    "W = 1\n",
    "for t in range(len(states) - 1, -1, -1):\n",
    "    s = states[t]\n",
    "    a = actions[t]\n",
    "    G = 1 * G + rewards[t]\n",
    "    C[(s, a)] += W\n",
    "    Q[(s, a)] += (W / C[(s, a)]) * (G - Q[(s, a)])\n",
    "    print(\"s a:\", s, a)\n",
    "    print(\"Q[(s, a)]:\", Q[(s, a)])\n",
    "    print(policy[s])\n",
    "    policy[s] = get_eps_greedy_probabilities(s, get_greedy_action(Q, s))\n",
    "    print(policy[s])\n",
    "    if policy[s] != a:\n",
    "        print(\"break\")\n",
    "        print(\"--------------------\")\n",
    "        break\n",
    "    W = W * (1 / b[s][a])\n",
    "    print(\"--------------------\")"
   ]
  },
  {
   "cell_type": "code",
   "execution_count": 8,
   "metadata": {},
   "outputs": [],
   "source": [
    "#policy, Q, C = learn_from_episode_off_pol(policy, b, Q, C, states, actions, rewards)"
   ]
  },
  {
   "cell_type": "code",
   "execution_count": null,
   "metadata": {},
   "outputs": [],
   "source": []
  },
  {
   "cell_type": "code",
   "execution_count": null,
   "metadata": {},
   "outputs": [],
   "source": []
  }
 ],
 "metadata": {
  "kernelspec": {
   "display_name": "Python 3.10.5 64-bit",
   "language": "python",
   "name": "python3"
  },
  "language_info": {
   "codemirror_mode": {
    "name": "ipython",
    "version": 3
   },
   "file_extension": ".py",
   "mimetype": "text/x-python",
   "name": "python",
   "nbconvert_exporter": "python",
   "pygments_lexer": "ipython3",
   "version": "3.10.5"
  },
  "orig_nbformat": 4,
  "vscode": {
   "interpreter": {
    "hash": "1f26179ee78db2aa81e6834ad6dc21cf32f3392ab3632a5346cf30ea04832c43"
   }
  }
 },
 "nbformat": 4,
 "nbformat_minor": 2
}
