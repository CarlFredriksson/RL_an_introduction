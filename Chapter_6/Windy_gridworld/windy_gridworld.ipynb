{
 "cells": [
  {
   "cell_type": "code",
   "execution_count": 1,
   "metadata": {},
   "outputs": [],
   "source": [
    "import random\n",
    "random.seed(7)\n",
    "from windy_gridworld import *"
   ]
  },
  {
   "cell_type": "code",
   "execution_count": 4,
   "metadata": {},
   "outputs": [
    {
     "data": {
      "text/plain": [
       "(-1, (7, 3), True)"
      ]
     },
     "execution_count": 4,
     "metadata": {},
     "output_type": "execute_result"
    }
   ],
   "source": [
    "environment = Environment()\n",
    "environment.take_action((6, 1), \"right\")"
   ]
  },
  {
   "cell_type": "code",
   "execution_count": 11,
   "metadata": {},
   "outputs": [],
   "source": [
    "Q_init = {}\n",
    "for x in range(environment.max_x + 1):\n",
    "    for y in range(environment.max_y + 1):\n",
    "        Q_init[(x, y)] = {\n",
    "            \"up\": 0,\n",
    "            \"down\": 0,\n",
    "            \"left\": 0,\n",
    "            \"right\": 0\n",
    "        }\n",
    "agent = SarsaAgent(0.5, 0.1, Q_init)"
   ]
  },
  {
   "cell_type": "code",
   "execution_count": 83,
   "metadata": {},
   "outputs": [
    {
     "name": "stdout",
     "output_type": "stream",
     "text": [
      "0.92484\n"
     ]
    }
   ],
   "source": [
    "Q_init_test = {(0, 0): {\"up\": 0, \"down\": -1, \"left\": -2, \"right\": -3}}\n",
    "agent = SarsaAgent(0.5, 0.1, Q_init_test)\n",
    "\n",
    "x = 0\n",
    "for i in range(100000):\n",
    "    action = agent.select_action((0, 0), [\"up\", \"down\", \"left\", \"right\"])\n",
    "    if action == \"up\":\n",
    "        x += 1\n",
    "print(x / 100000)"
   ]
  },
  {
   "cell_type": "code",
   "execution_count": 84,
   "metadata": {},
   "outputs": [
    {
     "data": {
      "text/plain": [
       "0.925"
      ]
     },
     "execution_count": 84,
     "metadata": {},
     "output_type": "execute_result"
    }
   ],
   "source": [
    "0.9 + (0.1/4)"
   ]
  },
  {
   "cell_type": "code",
   "execution_count": null,
   "metadata": {},
   "outputs": [],
   "source": []
  }
 ],
 "metadata": {
  "kernelspec": {
   "display_name": "Python 3",
   "language": "python",
   "name": "python3"
  },
  "language_info": {
   "codemirror_mode": {
    "name": "ipython",
    "version": 3
   },
   "file_extension": ".py",
   "mimetype": "text/x-python",
   "name": "python",
   "nbconvert_exporter": "python",
   "pygments_lexer": "ipython3",
   "version": "3.10.5"
  },
  "orig_nbformat": 4,
  "vscode": {
   "interpreter": {
    "hash": "1f26179ee78db2aa81e6834ad6dc21cf32f3392ab3632a5346cf30ea04832c43"
   }
  }
 },
 "nbformat": 4,
 "nbformat_minor": 2
}
