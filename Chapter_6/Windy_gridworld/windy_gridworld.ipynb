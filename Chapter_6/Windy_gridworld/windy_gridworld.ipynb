{
 "cells": [
  {
   "cell_type": "code",
   "execution_count": 1,
   "metadata": {},
   "outputs": [],
   "source": [
    "import random\n",
    "random.seed(7)\n",
    "import matplotlib.pyplot as plt\n",
    "from windy_gridworld import *"
   ]
  },
  {
   "cell_type": "code",
   "execution_count": 2,
   "metadata": {},
   "outputs": [
    {
     "data": {
      "text/plain": [
       "(-1, (7, 3), True)"
      ]
     },
     "execution_count": 2,
     "metadata": {},
     "output_type": "execute_result"
    }
   ],
   "source": [
    "environment = Environment()\n",
    "environment.take_action((8, 2), \"left\")"
   ]
  },
  {
   "cell_type": "code",
   "execution_count": 3,
   "metadata": {},
   "outputs": [],
   "source": [
    "Q_init = {}\n",
    "for x in range(environment.max_x + 1):\n",
    "    for y in range(environment.max_y + 1):\n",
    "        Q_init[(x, y)] = {\n",
    "            \"up\": 0,\n",
    "            \"down\": 0,\n",
    "            \"left\": 0,\n",
    "            \"right\": 0\n",
    "        }\n",
    "agent = SarsaAgent(0.5, Q_init)"
   ]
  },
  {
   "cell_type": "code",
   "execution_count": 4,
   "metadata": {},
   "outputs": [],
   "source": [
    "NUM_EPISODES = 150\n",
    "episode_lengths = []\n",
    "for ep in range(NUM_EPISODES):\n",
    "    eps = (1 - ep) / NUM_EPISODES\n",
    "    trajectory = run_episode(environment, agent, (0, 3), eps)\n",
    "    episode_lengths.append(len(trajectory) - 1)"
   ]
  },
  {
   "cell_type": "code",
   "execution_count": 5,
   "metadata": {},
   "outputs": [
    {
     "data": {
      "text/plain": [
       "[<matplotlib.lines.Line2D at 0x1d4c11fabf0>]"
      ]
     },
     "execution_count": 5,
     "metadata": {},
     "output_type": "execute_result"
    },
    {
     "data": {
      "image/png": "[encoded data removed]",
      "text/plain": [
       "<Figure size 432x288 with 1 Axes>"
      ]
     },
     "metadata": {
      "needs_background": "light"
     },
     "output_type": "display_data"
    }
   ],
   "source": [
    "plt.plot(np.arange(len(episode_lengths)), episode_lengths)"
   ]
  },
  {
   "cell_type": "code",
   "execution_count": 6,
   "metadata": {},
   "outputs": [
    {
     "data": {
      "text/plain": [
       "[((0, 3), 'right'),\n",
       " ((1, 3), 'right'),\n",
       " ((2, 3), 'right'),\n",
       " ((3, 3), 'right'),\n",
       " ((4, 4), 'right'),\n",
       " ((5, 5), 'right'),\n",
       " ((6, 6), 'right'),\n",
       " ((7, 6), 'right'),\n",
       " ((8, 6), 'right'),\n",
       " ((9, 6), 'down'),\n",
       " ((9, 5), 'down'),\n",
       " ((9, 4), 'down'),\n",
       " ((9, 3), 'down'),\n",
       " ((9, 2), 'left'),\n",
       " ((8, 2), 'left'),\n",
       " ((7, 3), 'left')]"
      ]
     },
     "execution_count": 6,
     "metadata": {},
     "output_type": "execute_result"
    }
   ],
   "source": [
    "trajectory = run_episode(environment, agent, (0, 3), 0)\n",
    "trajectory"
   ]
  },
  {
   "cell_type": "code",
   "execution_count": 7,
   "metadata": {},
   "outputs": [
    {
     "data": {
      "text/plain": [
       "15"
      ]
     },
     "execution_count": 7,
     "metadata": {},
     "output_type": "execute_result"
    }
   ],
   "source": [
    "len(trajectory) - 1"
   ]
  },
  {
   "cell_type": "code",
   "execution_count": null,
   "metadata": {},
   "outputs": [],
   "source": []
  }
 ],
 "metadata": {
  "kernelspec": {
   "display_name": "Python 3",
   "language": "python",
   "name": "python3"
  },
  "language_info": {
   "codemirror_mode": {
    "name": "ipython",
    "version": 3
   },
   "file_extension": ".py",
   "mimetype": "text/x-python",
   "name": "python",
   "nbconvert_exporter": "python",
   "pygments_lexer": "ipython3",
   "version": "3.10.5"
  },
  "orig_nbformat": 4,
  "vscode": {
   "interpreter": {
    "hash": "1f26179ee78db2aa81e6834ad6dc21cf32f3392ab3632a5346cf30ea04832c43"
   }
  }
 },
 "nbformat": 4,
 "nbformat_minor": 2
}
