{
 "cells": [
  {
   "cell_type": "code",
   "execution_count": 1,
   "metadata": {},
   "outputs": [],
   "source": [
    "import numpy as np\n",
    "import random\n",
    "random.seed(7)\n",
    "from gridworld import *"
   ]
  },
  {
   "cell_type": "code",
   "execution_count": 2,
   "metadata": {},
   "outputs": [],
   "source": [
    "NUM_RUNS = 10\n",
    "MAX_NUM_STEPS_PER_EPISODE = 10000\n",
    "NUM_EPISODES = 20000\n",
    "STEP_SIZE = 0.001\n",
    "TARGET_POLICY = (\n",
    "    {\"up\": 0, \"down\": 0, \"right\": 0, \"left\": 0}, # Terminal state\n",
    "    {\"up\": 0, \"down\": 0, \"right\": 0, \"left\": 1},\n",
    "    {\"up\": 0, \"down\": 0, \"right\": 0, \"left\": 1},\n",
    "    {\"up\": 0, \"down\": 0, \"right\": 0, \"left\": 1},\n",
    "    {\"up\": 1, \"down\": 0, \"right\": 0, \"left\": 0},\n",
    "    {\"up\": 1, \"down\": 0, \"right\": 0, \"left\": 0},\n",
    "    {\"up\": 1, \"down\": 0, \"right\": 0, \"left\": 0},\n",
    "    {\"up\": 0, \"down\": 1, \"right\": 0, \"left\": 0},\n",
    "    {\"up\": 1, \"down\": 0, \"right\": 0, \"left\": 0},\n",
    "    {\"up\": 0, \"down\": 1, \"right\": 0, \"left\": 0},\n",
    "    {\"up\": 0, \"down\": 1, \"right\": 0, \"left\": 0},\n",
    "    {\"up\": 0, \"down\": 1, \"right\": 0, \"left\": 0},\n",
    "    {\"up\": 0, \"down\": 0, \"right\": 1, \"left\": 0},\n",
    "    {\"up\": 0, \"down\": 0, \"right\": 1, \"left\": 0},\n",
    "    {\"up\": 0, \"down\": 0, \"right\": 1, \"left\": 0}\n",
    ")\n",
    "environment = Environment()\n",
    "results = []"
   ]
  },
  {
   "cell_type": "code",
   "execution_count": 3,
   "metadata": {},
   "outputs": [],
   "source": [
    "def compute_importance_sampling_ratio(target_policy, states, actions, tau, n, T):\n",
    "    importance_sampling_ratio = 1\n",
    "    for i in range(tau, min(tau + n, T - 1)):\n",
    "        # 0.25 is the probability of all actions under the uniform random policy\n",
    "        importance_sampling_ratio *= target_policy[states[i]][actions[i]] / 0.25 \n",
    "    return importance_sampling_ratio"
   ]
  },
  {
   "cell_type": "code",
   "execution_count": 4,
   "metadata": {},
   "outputs": [],
   "source": [
    "# Using the uniform random policy as behavior policy\n",
    "def run_n_step_td_off_policy(environment, target_policy, num_episodes, max_num_steps_per_episode, step_size, n):\n",
    "    V = np.zeros(len(environment.transitions))\n",
    "    rms_error_per_episode = np.zeros(num_episodes)\n",
    "    for ep in range(num_episodes):\n",
    "        states = [environment.generate_random_start_state()]\n",
    "        actions = []\n",
    "        rewards = []\n",
    "        T = np.inf\n",
    "        for t in range(max_num_steps_per_episode):\n",
    "            if t < T:\n",
    "                action = random.choice(environment.available_actions)\n",
    "                reward, new_state, reached_terminal_state = environment.take_action(states[t], action)\n",
    "                actions.append(action)\n",
    "                rewards.append(reward)\n",
    "                states.append(new_state)\n",
    "                if reached_terminal_state:\n",
    "                    T = t + 1\n",
    "            tau = t - n + 1\n",
    "            if tau >= 0:\n",
    "                importance_sampling_ratio = compute_importance_sampling_ratio(target_policy, states, actions, tau, n, T)\n",
    "                G = np.sum(rewards[tau:min(tau + n, T)])\n",
    "                if tau + n < T:\n",
    "                    G = G + V[states[tau + n]]\n",
    "                V[states[tau]] += step_size * importance_sampling_ratio * (G - V[states[tau]])\n",
    "            if tau == T - 1:\n",
    "                break\n",
    "        rms_error_per_episode[ep] = compute_rms_error(V)\n",
    "    return V, rms_error_per_episode"
   ]
  },
  {
   "cell_type": "code",
   "execution_count": 5,
   "metadata": {},
   "outputs": [
    {
     "data": {
      "text/plain": [
       "array([ 0.        , -0.99366415, -1.99889273, -2.99941854, -0.99335245,\n",
       "       -1.99710258, -2.99759589, -1.99837963, -1.99844329, -2.99871837,\n",
       "       -1.99663941, -0.99305328, -2.99785256, -1.99827922, -0.99302542])"
      ]
     },
     "execution_count": 5,
     "metadata": {},
     "output_type": "execute_result"
    }
   ],
   "source": [
    "# n-step TD off-policy (n=3)\n",
    "rms_error_per_episode_sum = np.zeros(NUM_EPISODES)\n",
    "for run in range(NUM_RUNS):\n",
    "    V, rms_error_per_episode = run_n_step_td_off_policy(environment, TARGET_POLICY, NUM_EPISODES, MAX_NUM_STEPS_PER_EPISODE, STEP_SIZE, 3)\n",
    "    rms_error_per_episode_sum += rms_error_per_episode\n",
    "results.append(rms_error_per_episode_sum / NUM_RUNS)\n",
    "V"
   ]
  },
  {
   "cell_type": "code",
   "execution_count": 6,
   "metadata": {},
   "outputs": [
    {
     "data": {
      "image/png": "[encoded data removed]",
      "text/plain": [
       "<Figure size 576x432 with 1 Axes>"
      ]
     },
     "metadata": {
      "needs_background": "light"
     },
     "output_type": "display_data"
    }
   ],
   "source": [
    "plot_progress(results[0], (8, 6), \"n-step TD off-policy (n=3)\")"
   ]
  },
  {
   "cell_type": "code",
   "execution_count": null,
   "metadata": {},
   "outputs": [],
   "source": []
  }
 ],
 "metadata": {
  "kernelspec": {
   "display_name": "Python 3",
   "language": "python",
   "name": "python3"
  },
  "language_info": {
   "codemirror_mode": {
    "name": "ipython",
    "version": 3
   },
   "file_extension": ".py",
   "mimetype": "text/x-python",
   "name": "python",
   "nbconvert_exporter": "python",
   "pygments_lexer": "ipython3",
   "version": "3.10.5"
  },
  "orig_nbformat": 4,
  "vscode": {
   "interpreter": {
    "hash": "1f26179ee78db2aa81e6834ad6dc21cf32f3392ab3632a5346cf30ea04832c43"
   }
  }
 },
 "nbformat": 4,
 "nbformat_minor": 2
}
