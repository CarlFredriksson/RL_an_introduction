{
 "cells": [
  {
   "cell_type": "code",
   "execution_count": 1,
   "metadata": {},
   "outputs": [],
   "source": [
    "import numpy as np\n",
    "np.random.seed(7)\n",
    "import random\n",
    "random.seed(7)\n",
    "import matplotlib.pyplot as plt\n",
    "from shortcut_maze import *"
   ]
  },
  {
   "cell_type": "code",
   "execution_count": 2,
   "metadata": {},
   "outputs": [],
   "source": [
    "NUM_RUNS = 10\n",
    "NUM_TIME_STEPS = 6000\n",
    "NUM_TIME_STEPS_BEFORE_SECOND_WALL = NUM_TIME_STEPS / 2\n",
    "EPS = 0.1\n",
    "LEARNING_RATE = 0.1\n",
    "GAMMA = 0.95\n",
    "N = 100\n",
    "KAPPA = 0.001"
   ]
  },
  {
   "cell_type": "code",
   "execution_count": 3,
   "metadata": {},
   "outputs": [
    {
     "data": {
      "text/plain": [
       "Text(0, 0.5, 'Cumulative reward (averaged over 10 runs)')"
      ]
     },
     "execution_count": 3,
     "metadata": {},
     "output_type": "execute_result"
    },
    {
     "data": {
      "image/png": "[encoded data removed]",
      "text/plain": [
       "<Figure size 432x288 with 1 Axes>"
      ]
     },
     "metadata": {
      "needs_background": "light"
     },
     "output_type": "display_data"
    }
   ],
   "source": [
    "avg_cumulative_reward = run_q_learning(\n",
    "    Environment(), NUM_RUNS, NUM_TIME_STEPS, NUM_TIME_STEPS_BEFORE_SECOND_WALL, EPS, LEARNING_RATE, GAMMA\n",
    ")\n",
    "plt.plot(np.arange(len(avg_cumulative_reward)), avg_cumulative_reward)\n",
    "plt.axvline(x=NUM_TIME_STEPS_BEFORE_SECOND_WALL, linestyle=\"dashed\", linewidth=1)\n",
    "plt.xlabel(\"Time steps\")\n",
    "plt.ylabel(f\"Cumulative reward (averaged over {NUM_RUNS} runs)\")"
   ]
  },
  {
   "cell_type": "code",
   "execution_count": 4,
   "metadata": {},
   "outputs": [],
   "source": [
    "avg_cumulative_reward = run_dyna_q(\n",
    "    Environment(), NUM_RUNS, NUM_TIME_STEPS, NUM_TIME_STEPS_BEFORE_SECOND_WALL, EPS, LEARNING_RATE, GAMMA, N\n",
    ")\n",
    "plt.plot(np.arange(len(avg_cumulative_reward)), avg_cumulative_reward)\n",
    "plt.axvline(x=NUM_TIME_STEPS_BEFORE_SECOND_WALL, linestyle=\"dashed\", linewidth=1)\n",
    "plt.xlabel(\"Time steps\")\n",
    "plt.ylabel(f\"Cumulative reward (averaged over {NUM_RUNS} runs)\")"
   ]
  },
  {
   "cell_type": "code",
   "execution_count": null,
   "metadata": {},
   "outputs": [],
   "source": [
    "avg_cumulative_reward = run_dyna_q_plus(\n",
    "    Environment(), NUM_RUNS, NUM_TIME_STEPS, NUM_TIME_STEPS_BEFORE_SECOND_WALL, EPS, LEARNING_RATE, GAMMA, N, KAPPA\n",
    ")\n",
    "plt.plot(np.arange(len(avg_cumulative_reward)), avg_cumulative_reward)\n",
    "plt.axvline(x=NUM_TIME_STEPS_BEFORE_SECOND_WALL, linestyle=\"dashed\", linewidth=1)\n",
    "plt.xlabel(\"Time steps\")\n",
    "plt.ylabel(f\"Cumulative reward (averaged over {NUM_RUNS} runs)\")"
   ]
  },
  {
   "cell_type": "code",
   "execution_count": null,
   "metadata": {},
   "outputs": [],
   "source": [
    "def run_dyna_q_plus_v2(env, num_runs, num_time_steps, num_time_steps_before_second_wall, eps, learning_rate, gamma, n, kappa):\n",
    "    avg_cumulative_reward = np.zeros(num_time_steps)\n",
    "    for _ in range(num_runs):\n",
    "        cumulative_reward = np.zeros(num_time_steps)\n",
    "        Q = np.zeros((env.grid_size[0], env.grid_size[1], len(env.available_actions)))\n",
    "        model = {}\n",
    "        for x in range(env.grid_size[0]):\n",
    "            for y in range(env.grid_size[1]):\n",
    "                for a in env.available_actions:\n",
    "                    model[((x, y), a)] = (0, (x, y))\n",
    "        steps_since_tried = np.zeros((env.grid_size[0], env.grid_size[1], len(env.available_actions)))\n",
    "        state = env.start_state\n",
    "        for t in range(num_time_steps):\n",
    "            # Experience with the environment\n",
    "            first_wall_active = True if t < num_time_steps_before_second_wall else False\n",
    "            action = eps_greedy_action_selection(Q, state, eps)\n",
    "            reward, new_state = env.take_action(state, action, first_wall_active)\n",
    "            Q[state][action] += learning_rate * (reward + gamma * np.max(Q[new_state]) - Q[state][action])\n",
    "            model[(state, action)] = (reward, new_state)\n",
    "            steps_since_tried += 1\n",
    "            steps_since_tried[state][action] = 0\n",
    "            cumulative_reward = update_cumulative_reward(cumulative_reward, reward, t)\n",
    "            state = new_state\n",
    "\n",
    "            # Planning\n",
    "            for _ in range(n):\n",
    "                rand_state, rand_action = random.choice(list(model.keys()))\n",
    "                reward, new_state = model[(rand_state, rand_action)]\n",
    "                reward += kappa * np.sqrt(steps_since_tried[rand_state][rand_action])\n",
    "                Q[rand_state][rand_action] += learning_rate * (reward + gamma * np.max(Q[new_state]) - Q[rand_state][rand_action])\n",
    "\n",
    "        avg_cumulative_reward += cumulative_reward\n",
    "    avg_cumulative_reward /= num_runs\n",
    "\n",
    "    return avg_cumulative_reward"
   ]
  }
 ],
 "metadata": {
  "kernelspec": {
   "display_name": "Python 3",
   "language": "python",
   "name": "python3"
  },
  "language_info": {
   "codemirror_mode": {
    "name": "ipython",
    "version": 3
   },
   "file_extension": ".py",
   "mimetype": "text/x-python",
   "name": "python",
   "nbconvert_exporter": "python",
   "pygments_lexer": "ipython3",
   "version": "3.10.5"
  },
  "orig_nbformat": 4,
  "vscode": {
   "interpreter": {
    "hash": "1f26179ee78db2aa81e6834ad6dc21cf32f3392ab3632a5346cf30ea04832c43"
   }
  }
 },
 "nbformat": 4,
 "nbformat_minor": 2
}
