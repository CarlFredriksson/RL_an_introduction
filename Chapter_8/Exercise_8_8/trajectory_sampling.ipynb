{
 "cells": [
  {
   "cell_type": "code",
   "execution_count": 1,
   "metadata": {},
   "outputs": [],
   "source": [
    "import numpy as np\n",
    "np.random.seed(7)\n",
    "import random\n",
    "random.seed(7)\n",
    "import matplotlib.pyplot as plt\n",
    "from trajectory_sampling import *"
   ]
  },
  {
   "cell_type": "code",
   "execution_count": 2,
   "metadata": {},
   "outputs": [],
   "source": [
    "NUM_RUNS = 20 # TODO: CHANGE to 200!!!!!!!!!!!!!\n",
    "NUM_STEPS_PER_RUN = 100000 # TODO: CHANGE to 200000!!!!!!!\n",
    "NUM_STEPS_BETWEEN_START_VALUE_COMPUTATIONS = 1000\n",
    "NUM_STATES = 1000\n",
    "NUM_ACTIONS = 2\n",
    "b = 3\n",
    "EPS = 0.1"
   ]
  },
  {
   "cell_type": "code",
   "execution_count": 3,
   "metadata": {},
   "outputs": [
    {
     "data": {
      "text/plain": [
       "array([0.        , 1.9089029 , 2.24090922, 2.45999063, 2.53447002,\n",
       "       2.62767219, 2.61808812, 2.63810999, 2.662337  , 2.68054891,\n",
       "       2.73949892, 2.74470894, 2.77039506, 2.76831673, 2.77684855,\n",
       "       2.83030407, 2.80596014, 2.78814395, 2.86666365, 2.89703518,\n",
       "       2.87763602, 2.91381064, 2.87073956, 2.90714154, 2.92171907,\n",
       "       2.87491574, 2.93677438, 2.95925913, 2.88921816, 2.92775089,\n",
       "       2.94476803, 2.95430177, 3.00771824, 3.00464806, 2.99255276,\n",
       "       2.94528177, 3.07861815, 3.05634879, 3.03092018, 3.08609947,\n",
       "       3.06285558, 3.02608931, 3.04347216, 3.08748907, 3.0618478 ,\n",
       "       2.99529571, 3.01314781, 3.07274913, 3.04657871, 3.08306269,\n",
       "       3.07250195, 3.1328653 , 3.07243571, 3.10346623, 3.08671251,\n",
       "       3.07590405, 3.09458201, 3.11734081, 3.1127515 , 3.15539839,\n",
       "       3.17492988, 3.18919636, 3.15651508, 3.08528545, 3.13045078,\n",
       "       3.13774573, 3.16013416, 3.07675841, 3.09638934, 3.12529385,\n",
       "       3.13452019, 3.18029017, 3.13011133, 3.14618544, 3.20099127,\n",
       "       3.15286664, 3.18351264, 3.18959138, 3.21874653, 3.15503656,\n",
       "       3.17597702, 3.12330744, 3.12717641, 3.14716404, 3.12203116,\n",
       "       3.14574774, 3.14437703, 3.14866003, 3.20525681, 3.15108826,\n",
       "       3.21632217, 3.20187996, 3.19707897, 3.19075438, 3.19715591,\n",
       "       3.21467641, 3.2264047 , 3.19484589, 3.17225736, 3.2279964 ,\n",
       "       3.19930397])"
      ]
     },
     "execution_count": 3,
     "metadata": {},
     "output_type": "execute_result"
    }
   ],
   "source": [
    "# On-policy updates\n",
    "start_state_value = np.zeros(int(NUM_STEPS_PER_RUN / NUM_STEPS_BETWEEN_START_VALUE_COMPUTATIONS) + 1)\n",
    "for r in range(NUM_RUNS):\n",
    "    environment = Environment(NUM_STATES, NUM_ACTIONS, b)\n",
    "    Q = np.zeros((NUM_STATES, NUM_ACTIONS))\n",
    "    state = environment.starting_state\n",
    "    for t in range(1, NUM_STEPS_PER_RUN + 1):\n",
    "        action = eps_greedy_action_selection(Q, state, EPS)\n",
    "        _, next_state, reached_terminal_state = environment.take_action(state, action)\n",
    "        Q[state][action] = compute_expected_update(environment.transitions, Q, state, action)\n",
    "        state = next_state\n",
    "        if reached_terminal_state:\n",
    "            state = environment.starting_state\n",
    "        if t % NUM_STEPS_BETWEEN_START_VALUE_COMPUTATIONS == 0:\n",
    "            start_state_value[int(t / NUM_STEPS_BETWEEN_START_VALUE_COMPUTATIONS)] += compute_start_state_value(environment, Q)\n",
    "start_state_value /= NUM_RUNS\n",
    "start_state_value"
   ]
  },
  {
   "cell_type": "code",
   "execution_count": null,
   "metadata": {},
   "outputs": [],
   "source": []
  }
 ],
 "metadata": {
  "kernelspec": {
   "display_name": "Python 3",
   "language": "python",
   "name": "python3"
  },
  "language_info": {
   "codemirror_mode": {
    "name": "ipython",
    "version": 3
   },
   "file_extension": ".py",
   "mimetype": "text/x-python",
   "name": "python",
   "nbconvert_exporter": "python",
   "pygments_lexer": "ipython3",
   "version": "3.10.5"
  },
  "orig_nbformat": 4
 },
 "nbformat": 4,
 "nbformat_minor": 2
}
