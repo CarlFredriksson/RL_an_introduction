{
 "cells": [
  {
   "cell_type": "code",
   "execution_count": 1,
   "metadata": {},
   "outputs": [],
   "source": [
    "import numpy as np\n",
    "np.random.seed(7)\n",
    "import random\n",
    "random.seed(7)\n",
    "import matplotlib.pyplot as plt\n",
    "from trajectory_sampling import *"
   ]
  },
  {
   "cell_type": "code",
   "execution_count": 2,
   "metadata": {},
   "outputs": [
    {
     "data": {
      "text/plain": [
       "[[(array([0, 3, 2]),\n",
       "   array([-0.03710022,  0.39946285, -1.09344174, -0.88903401])),\n",
       "  (array([4, 0, 3]),\n",
       "   array([ 0.83083986, -0.34983013, -0.38108715,  0.83083986]))],\n",
       " [(array([1, 4, 2]),\n",
       "   array([-0.01496821, -0.08313583,  0.74878108, -0.08313583])),\n",
       "  (array([2, 4, 1]),\n",
       "   array([-0.28028551, -0.95166343, -2.14511962, -0.95166343]))],\n",
       " [(array([2, 4, 1]),\n",
       "   array([-0.04104215,  0.13095382,  0.5197088 ,  0.13095382])),\n",
       "  (array([4, 3, 0]),\n",
       "   array([-0.21297954,  0.46797054,  0.41266062, -0.21297954]))],\n",
       " [(array([0, 4, 2]),\n",
       "   array([-0.50541495, -1.0443414 ,  1.90816149, -1.0443414 ])),\n",
       "  (array([0, 1, 2]), array([0.21465687, 1.84624536, 0.16640132, 0.07166549]))],\n",
       " [(array([1, 2, 0]),\n",
       "   array([ 1.06985315,  0.1666724 , -0.16569661, -1.1334848 ])),\n",
       "  (array([4, 0, 1]),\n",
       "   array([-0.88618447,  0.03993667,  1.65642429, -0.88618447]))]]"
      ]
     },
     "execution_count": 2,
     "metadata": {},
     "output_type": "execute_result"
    }
   ],
   "source": [
    "NUM_STATES = 5\n",
    "NUM_ACTIONS = 2\n",
    "b = 3\n",
    "EPS = 0.1\n",
    "env = Environment(NUM_STATES, NUM_ACTIONS, b)\n",
    "env.transitions"
   ]
  },
  {
   "cell_type": "code",
   "execution_count": 3,
   "metadata": {},
   "outputs": [
    {
     "name": "stdout",
     "output_type": "stream",
     "text": [
      "[400038, 300036, 299926]\n"
     ]
    }
   ],
   "source": [
    "counts = [0, 0, 0]\n",
    "for i in range(1000000):\n",
    "    expected_reward, next_state, reached_terminal_state = env.take_action(0, 1)\n",
    "    if next_state == 4:\n",
    "        counts[0] += 1\n",
    "    if next_state == 0:\n",
    "        counts[1] += 1\n",
    "    if next_state == 3:\n",
    "        counts[2] += 1\n",
    "print(counts)"
   ]
  },
  {
   "cell_type": "code",
   "execution_count": null,
   "metadata": {},
   "outputs": [],
   "source": []
  }
 ],
 "metadata": {
  "kernelspec": {
   "display_name": "Python 3",
   "language": "python",
   "name": "python3"
  },
  "language_info": {
   "codemirror_mode": {
    "name": "ipython",
    "version": 3
   },
   "file_extension": ".py",
   "mimetype": "text/x-python",
   "name": "python",
   "nbconvert_exporter": "python",
   "pygments_lexer": "ipython3",
   "version": "3.10.5"
  },
  "orig_nbformat": 4
 },
 "nbformat": 4,
 "nbformat_minor": 2
}
