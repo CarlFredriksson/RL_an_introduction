{
 "cells": [
  {
   "cell_type": "code",
   "execution_count": 1,
   "metadata": {},
   "outputs": [],
   "source": [
    "import numpy as np\n",
    "np.random.seed(7)\n",
    "import random\n",
    "random.seed(7)\n",
    "import matplotlib.pyplot as plt\n",
    "from trajectory_sampling import *"
   ]
  },
  {
   "cell_type": "code",
   "execution_count": 3,
   "metadata": {},
   "outputs": [
    {
     "data": {
      "text/plain": [
       "[[(array([2, 3, 2]),\n",
       "   array([ 1.50747188,  1.18367808, -0.59433183, -1.51004067])),\n",
       "  (array([0, 1, 3]), array([0.21465687, 1.84624536, 0.16640132, 0.07166549]))],\n",
       " [(array([1, 0, 3]),\n",
       "   array([ 0.42034714, -0.9760654 ,  1.06985315,  0.1666724 ])),\n",
       "  (array([2, 3, 3]),\n",
       "   array([-0.09477545,  1.19308592, -0.36881847, -1.90636988]))],\n",
       " [(array([2, 1, 2]),\n",
       "   array([ 1.65642429, -0.88618447, -2.51466001,  0.04704161])),\n",
       "  (array([0, 0, 1]),\n",
       "   array([-1.32211549, -2.16867984,  0.67608609,  0.62706529]))],\n",
       " [(array([0, 2, 0]),\n",
       "   array([-0.00998003,  1.43402678,  0.29110214, -0.23440229])),\n",
       "  (array([2, 1, 1]),\n",
       "   array([-0.19285546, -1.77801285,  0.6547057 ,  0.8943523 ]))]]"
      ]
     },
     "execution_count": 3,
     "metadata": {},
     "output_type": "execute_result"
    }
   ],
   "source": [
    "NUM_STATES = 4\n",
    "NUM_ACTIONS = 2\n",
    "b = 3\n",
    "env = Environment(NUM_STATES, NUM_ACTIONS, b)\n",
    "env.transitions"
   ]
  },
  {
   "cell_type": "code",
   "execution_count": null,
   "metadata": {},
   "outputs": [],
   "source": []
  }
 ],
 "metadata": {
  "kernelspec": {
   "display_name": "Python 3",
   "language": "python",
   "name": "python3"
  },
  "language_info": {
   "codemirror_mode": {
    "name": "ipython",
    "version": 3
   },
   "file_extension": ".py",
   "mimetype": "text/x-python",
   "name": "python",
   "nbconvert_exporter": "python",
   "pygments_lexer": "ipython3",
   "version": "3.10.5"
  },
  "orig_nbformat": 4
 },
 "nbformat": 4,
 "nbformat_minor": 2
}
