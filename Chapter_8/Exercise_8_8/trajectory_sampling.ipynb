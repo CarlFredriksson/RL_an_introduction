{
 "cells": [
  {
   "cell_type": "code",
   "execution_count": 1,
   "metadata": {},
   "outputs": [],
   "source": [
    "import numpy as np\n",
    "np.random.seed(7)\n",
    "import random\n",
    "random.seed(7)\n",
    "import matplotlib.pyplot as plt\n",
    "from trajectory_sampling import *"
   ]
  },
  {
   "cell_type": "code",
   "execution_count": 2,
   "metadata": {},
   "outputs": [
    {
     "data": {
      "text/plain": [
       "[[(array([2, 1]), array([-0.38546851, -0.43497813, -0.38546851])),\n",
       "  (array([1, 0]), array([-0.22025144,  0.02006439, -0.34983013]))],\n",
       " [(array([2, 1]), array([ 1.18707736, -1.61686249,  1.18707736])),\n",
       "  (array([1, 2]), array([ 1.20094576, -0.20413855, -0.20413855]))],\n",
       " [(array([2, 0]), array([0.27445992, 0.12388091, 0.27445992])),\n",
       "  (array([1, 2]), array([-1.52652453, -1.10711737, -1.10711737]))]]"
      ]
     },
     "execution_count": 2,
     "metadata": {},
     "output_type": "execute_result"
    }
   ],
   "source": [
    "NUM_STATES = 3\n",
    "NUM_ACTIONS = 2\n",
    "b = 2\n",
    "EPS = 0.1\n",
    "env = Environment(NUM_STATES, NUM_ACTIONS, b)\n",
    "env.transitions"
   ]
  },
  {
   "cell_type": "code",
   "execution_count": 3,
   "metadata": {},
   "outputs": [
    {
     "name": "stdout",
     "output_type": "stream",
     "text": [
      "[958, 42]\n"
     ]
    }
   ],
   "source": [
    "Q = np.array([\n",
    "    [0.0, 2],\n",
    "    [2, 0],\n",
    "    [0, 0]\n",
    "])\n",
    "count = [0, 0]\n",
    "for i in range(1000):\n",
    "    a = eps_greedy_action_selection(Q, 1, 0.1)\n",
    "    count[a] += 1\n",
    "print(count)"
   ]
  },
  {
   "cell_type": "code",
   "execution_count": 4,
   "metadata": {},
   "outputs": [
    {
     "data": {
      "text/plain": [
       "array([[0.49225216, 2.        ],\n",
       "       [2.        , 0.        ],\n",
       "       [0.        , 0.        ]])"
      ]
     },
     "execution_count": 4,
     "metadata": {},
     "output_type": "execute_result"
    }
   ],
   "source": [
    "update_Q(Q, env.transitions, 0, 0)\n",
    "Q"
   ]
  },
  {
   "cell_type": "code",
   "execution_count": null,
   "metadata": {},
   "outputs": [],
   "source": []
  }
 ],
 "metadata": {
  "kernelspec": {
   "display_name": "Python 3",
   "language": "python",
   "name": "python3"
  },
  "language_info": {
   "codemirror_mode": {
    "name": "ipython",
    "version": 3
   },
   "file_extension": ".py",
   "mimetype": "text/x-python",
   "name": "python",
   "nbconvert_exporter": "python",
   "pygments_lexer": "ipython3",
   "version": "3.10.5"
  },
  "orig_nbformat": 4
 },
 "nbformat": 4,
 "nbformat_minor": 2
}
